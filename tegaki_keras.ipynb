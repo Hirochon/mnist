{
 "cells": [
  {
   "cell_type": "markdown",
   "metadata": {},
   "source": [
    "## 1. import tensorflow & keras"
   ]
  },
  {
   "cell_type": "code",
   "execution_count": 3,
   "metadata": {},
   "outputs": [
    {
     "name": "stderr",
     "output_type": "stream",
     "text": [
      "Using TensorFlow backend.\n"
     ]
    }
   ],
   "source": [
    "from keras.datasets import mnist\n",
    "from keras.models import Sequential\n",
    "from keras.layers import Dense, Dropout, InputLayer\n",
    "from keras.optimizers import RMSprop"
   ]
  },
  {
   "cell_type": "markdown",
   "metadata": {},
   "source": [
    "## 2. MNISTデータを読込む"
   ]
  },
  {
   "cell_type": "code",
   "execution_count": 4,
   "metadata": {},
   "outputs": [
    {
     "name": "stdout",
     "output_type": "stream",
     "text": [
      "Downloading data from https://s3.amazonaws.com/img-datasets/mnist.npz\n",
      "11493376/11490434 [==============================] - 83s 7us/step\n"
     ]
    }
   ],
   "source": [
    "(x_train, y_train), (x_test, y_test) = mnist.load_data()"
   ]
  },
  {
   "cell_type": "markdown",
   "metadata": {},
   "source": [
    "## 3. MNISTデータを加工する"
   ]
  },
  {
   "cell_type": "code",
   "execution_count": 6,
   "metadata": {},
   "outputs": [],
   "source": [
    "import keras\n",
    "# MNISTデータを加工する\n",
    "x_train  = x_train.reshape(60000, 784)\n",
    "x_test   = x_test.reshape(10000, 784)\n",
    "x_train  = x_train.astype('float32')\n",
    "x_test   = x_test.astype('float32')\n",
    "x_train /= 255\n",
    "x_test  /= 255\n",
    "y_train  = keras.utils.to_categorical(y_train, 10)\n",
    "y_test   = keras.utils.to_categorical(y_test, 10)"
   ]
  },
  {
   "cell_type": "markdown",
   "metadata": {},
   "source": [
    "## 4. モデルの構築"
   ]
  },
  {
   "cell_type": "code",
   "execution_count": 7,
   "metadata": {},
   "outputs": [],
   "source": [
    "model = Sequential()\n",
    "model.add(InputLayer(input_shape=(784,)))\n",
    "model.add(Dense(10, activation='softmax'))\n",
    "model.compile(loss='categorical_crossentropy', optimizer='rmsprop', metrics=['accuracy'])"
   ]
  },
  {
   "cell_type": "markdown",
   "metadata": {},
   "source": [
    "## 5. 学習"
   ]
  },
  {
   "cell_type": "code",
   "execution_count": 8,
   "metadata": {},
   "outputs": [
    {
     "name": "stdout",
     "output_type": "stream",
     "text": [
      "Train on 60000 samples, validate on 10000 samples\n",
      "Epoch 1/20\n",
      "60000/60000 [==============================] - 1s 17us/step - loss: 2.2629 - accuracy: 0.3994 - val_loss: 2.2236 - val_accuracy: 0.6069\n",
      "Epoch 2/20\n",
      "60000/60000 [==============================] - 1s 16us/step - loss: 2.1887 - accuracy: 0.6026 - val_loss: 2.1491 - val_accuracy: 0.6573\n",
      "Epoch 3/20\n",
      "60000/60000 [==============================] - 1s 16us/step - loss: 2.1169 - accuracy: 0.6510 - val_loss: 2.0772 - val_accuracy: 0.7005\n",
      "Epoch 4/20\n",
      "60000/60000 [==============================] - 1s 18us/step - loss: 2.0474 - accuracy: 0.6903 - val_loss: 2.0078 - val_accuracy: 0.7186\n",
      "Epoch 5/20\n",
      "60000/60000 [==============================] - 1s 16us/step - loss: 1.9802 - accuracy: 0.7089 - val_loss: 1.9403 - val_accuracy: 0.7333\n",
      "Epoch 6/20\n",
      "60000/60000 [==============================] - 1s 18us/step - loss: 1.9149 - accuracy: 0.7209 - val_loss: 1.8750 - val_accuracy: 0.7491\n",
      "Epoch 7/20\n",
      "60000/60000 [==============================] - 1s 16us/step - loss: 1.8521 - accuracy: 0.7341 - val_loss: 1.8122 - val_accuracy: 0.7620\n",
      "Epoch 8/20\n",
      "60000/60000 [==============================] - 1s 16us/step - loss: 1.7914 - accuracy: 0.7437 - val_loss: 1.7517 - val_accuracy: 0.7677\n",
      "Epoch 9/20\n",
      "60000/60000 [==============================] - 1s 18us/step - loss: 1.7330 - accuracy: 0.7504 - val_loss: 1.6935 - val_accuracy: 0.7759\n",
      "Epoch 10/20\n",
      "60000/60000 [==============================] - 1s 17us/step - loss: 1.6771 - accuracy: 0.7570 - val_loss: 1.6378 - val_accuracy: 0.7816\n",
      "Epoch 11/20\n",
      "60000/60000 [==============================] - 1s 17us/step - loss: 1.6233 - accuracy: 0.7646 - val_loss: 1.5844 - val_accuracy: 0.7853\n",
      "Epoch 12/20\n",
      "60000/60000 [==============================] - 1s 17us/step - loss: 1.5718 - accuracy: 0.7690 - val_loss: 1.5333 - val_accuracy: 0.7913\n",
      "Epoch 13/20\n",
      "60000/60000 [==============================] - 1s 17us/step - loss: 1.5226 - accuracy: 0.7736 - val_loss: 1.4847 - val_accuracy: 0.7945\n",
      "Epoch 14/20\n",
      "60000/60000 [==============================] - 1s 17us/step - loss: 1.4757 - accuracy: 0.7780 - val_loss: 1.4381 - val_accuracy: 0.7992\n",
      "Epoch 15/20\n",
      "60000/60000 [==============================] - 1s 20us/step - loss: 1.4305 - accuracy: 0.7829 - val_loss: 1.3933 - val_accuracy: 0.8005\n",
      "Epoch 16/20\n",
      "60000/60000 [==============================] - 1s 19us/step - loss: 1.3875 - accuracy: 0.7857 - val_loss: 1.3509 - val_accuracy: 0.8070\n",
      "Epoch 17/20\n",
      "60000/60000 [==============================] - 1s 18us/step - loss: 1.3466 - accuracy: 0.7895 - val_loss: 1.3105 - val_accuracy: 0.8086\n",
      "Epoch 18/20\n",
      "60000/60000 [==============================] - 1s 19us/step - loss: 1.3077 - accuracy: 0.7929 - val_loss: 1.2719 - val_accuracy: 0.8103\n",
      "Epoch 19/20\n",
      "60000/60000 [==============================] - 1s 24us/step - loss: 1.2705 - accuracy: 0.7970 - val_loss: 1.2351 - val_accuracy: 0.8127\n",
      "Epoch 20/20\n",
      "60000/60000 [==============================] - 1s 17us/step - loss: 1.2350 - accuracy: 0.7992 - val_loss: 1.2001 - val_accuracy: 0.8163\n"
     ]
    }
   ],
   "source": [
    "epochs = 20\n",
    "batch_size = 128\n",
    "history = model.fit(x_train, y_train, batch_size=batch_size, epochs=epochs, verbose=1, validation_data=(x_test, y_test))"
   ]
  },
  {
   "cell_type": "markdown",
   "metadata": {},
   "source": [
    "## 6. 予測"
   ]
  },
  {
   "cell_type": "code",
   "execution_count": null,
   "metadata": {},
   "outputs": [],
   "source": []
  }
 ],
 "metadata": {
  "kernelspec": {
   "display_name": "Python 3",
   "language": "python",
   "name": "python3"
  },
  "language_info": {
   "codemirror_mode": {
    "name": "ipython",
    "version": 3
   },
   "file_extension": ".py",
   "mimetype": "text/x-python",
   "name": "python",
   "nbconvert_exporter": "python",
   "pygments_lexer": "ipython3",
   "version": "3.7.6"
  }
 },
 "nbformat": 4,
 "nbformat_minor": 4
}
