{
 "cells": [
  {
   "cell_type": "code",
   "execution_count": 1,
   "metadata": {},
   "outputs": [],
   "source": [
    "import numpy as np\n",
    "import time"
   ]
  },
  {
   "cell_type": "code",
   "execution_count": 2,
   "metadata": {},
   "outputs": [
    {
     "name": "stdout",
     "output_type": "stream",
     "text": [
      "axis: 0.2986793518066406\n",
      "None: 0.29714012145996094\n",
      "axis: 0.30260610580444336\n",
      "None: 0.3091702461242676\n",
      "axis: 0.29826855659484863\n",
      "None: 0.3080017566680908\n",
      "axis: 0.298809289932251\n",
      "None: 0.29682230949401855\n",
      "axis: 0.2975308895111084\n",
      "None: 0.2989637851715088\n",
      "axis: 0.2958838939666748\n",
      "None: 0.2988259792327881\n",
      "axis: 0.30058860778808594\n",
      "None: 0.2972261905670166\n",
      "axis: 0.2942042350769043\n",
      "None: 0.30191850662231445\n",
      "axis: 0.3031911849975586\n",
      "None: 0.2963588237762451\n",
      "axis: 0.2968916893005371\n",
      "None: 0.29549407958984375\n",
      "axis: 0.29492640495300293\n",
      "None: 0.29540395736694336\n",
      "axis: 0.2978992462158203\n",
      "None: 0.2966799736022949\n",
      "axis: 0.2989785671234131\n",
      "None: 0.29779839515686035\n",
      "axis: 0.296825647354126\n",
      "None: 0.2949700355529785\n",
      "axis: 0.2964303493499756\n",
      "None: 0.29567718505859375\n",
      "newaxis_time:0.29811426798502605, None_time:0.29869675636291504\n",
      "True\n"
     ]
    }
   ],
   "source": [
    "a = np.arange(10000)\n",
    "b = np.ones(10000)\n",
    "newaxis_time = 0\n",
    "none_time = 0\n",
    "start = time.time()\n",
    "for i in range(15):\n",
    "    start = time.time()\n",
    "    c = a[:, np.newaxis] + b\n",
    "    _newaxis_time = time.time() - start\n",
    "    print(\"axis: \",end=\"\")\n",
    "    print(_newaxis_time)\n",
    "    newaxis_time += _newaxis_time\n",
    "\n",
    "    start = time.time()\n",
    "    d = a[:, None] + b\n",
    "    _none_time = time.time() - start\n",
    "    print(\"None: \",end=\"\")\n",
    "    print(_none_time)\n",
    "    none_time += _none_time\n",
    "\n",
    "print(\"newaxis_time:{0}, None_time:{1}\".format(newaxis_time / 15, none_time / 15))\n",
    "print(None == np.newaxis)"
   ]
  },
  {
   "cell_type": "code",
   "execution_count": 4,
   "metadata": {},
   "outputs": [
    {
     "name": "stdout",
     "output_type": "stream",
     "text": [
      "0.022246360778808594\n",
      "Error\n",
      "0.00019931793212890625\n"
     ]
    }
   ],
   "source": [
    "a = np.ones(10000)\n",
    "start = time.time()\n",
    "for i in range(10000):\n",
    "    a[i] += 1\n",
    "for_time = time.time() - start\n",
    "print(for_time)\n",
    "start = time.time()\n",
    "a += 1\n",
    "bro_time = time.time() - start\n",
    "if 10002 not in a:\n",
    "    print(a[])\n",
    "print(bro_time)"
   ]
  }
 ],
 "metadata": {
  "kernelspec": {
   "display_name": "Python 3",
   "language": "python",
   "name": "python3"
  },
  "language_info": {
   "codemirror_mode": {
    "name": "ipython",
    "version": 3
   },
   "file_extension": ".py",
   "mimetype": "text/x-python",
   "name": "python",
   "nbconvert_exporter": "python",
   "pygments_lexer": "ipython3",
   "version": "3.7.6"
  }
 },
 "nbformat": 4,
 "nbformat_minor": 4
}
