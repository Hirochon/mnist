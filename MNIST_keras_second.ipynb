{
 "cells": [
  {
   "cell_type": "markdown",
   "metadata": {},
   "source": [
    "## 0. モジュールの確認"
   ]
  },
  {
   "cell_type": "code",
   "execution_count": 1,
   "metadata": {},
   "outputs": [
    {
     "name": "stdout",
     "output_type": "stream",
     "text": [
      "Package                Version            \r\n",
      "---------------------- -------------------\r\n",
      "absl-py                0.9.0              \r\n",
      "alembic                1.4.1              \r\n",
      "astor                  0.8.1              \r\n",
      "async-generator        1.10               \r\n",
      "attrs                  19.3.0             \r\n",
      "backcall               0.1.0              \r\n",
      "beautifulsoup4         4.8.2              \r\n",
      "bleach                 3.1.3              \r\n",
      "blinker                1.4                \r\n",
      "bokeh                  1.4.0              \r\n",
      "cachetools             4.1.0              \r\n",
      "certifi                2019.11.28         \r\n",
      "certipy                0.1.3              \r\n",
      "cffi                   1.14.0             \r\n",
      "chardet                3.0.4              \r\n",
      "click                  7.1.1              \r\n",
      "cloudpickle            1.3.0              \r\n",
      "conda                  4.8.2              \r\n",
      "conda-package-handling 1.6.0              \r\n",
      "cryptography           2.8                \r\n",
      "cycler                 0.10.0             \r\n",
      "Cython                 0.29.15            \r\n",
      "cytoolz                0.10.1             \r\n",
      "dask                   2.11.0             \r\n",
      "decorator              4.4.2              \r\n",
      "defusedxml             0.6.0              \r\n",
      "dill                   0.3.1.1            \r\n",
      "distributed            2.12.0             \r\n",
      "entrypoints            0.3                \r\n",
      "fsspec                 0.6.2              \r\n",
      "gast                   0.2.2              \r\n",
      "google-auth            1.14.1             \r\n",
      "google-auth-oauthlib   0.4.1              \r\n",
      "google-pasta           0.2.0              \r\n",
      "grpcio                 1.28.1             \r\n",
      "h5py                   2.10.0             \r\n",
      "HeapDict               1.0.1              \r\n",
      "idna                   2.9                \r\n",
      "imageio                2.8.0              \r\n",
      "importlib-metadata     1.5.0              \r\n",
      "ipykernel              5.1.4              \r\n",
      "ipympl                 0.5.3              \r\n",
      "ipython                7.13.0             \r\n",
      "ipython-genutils       0.2.0              \r\n",
      "ipywidgets             7.5.1              \r\n",
      "jedi                   0.16.0             \r\n",
      "Jinja2                 2.11.1             \r\n",
      "joblib                 0.14.1             \r\n",
      "json5                  0.9.0              \r\n",
      "jsonschema             3.2.0              \r\n",
      "jupyter-client         6.0.0              \r\n",
      "jupyter-core           4.6.3              \r\n",
      "jupyter-telemetry      0.0.5              \r\n",
      "jupyterhub             1.1.0              \r\n",
      "jupyterlab             2.0.1              \r\n",
      "jupyterlab-server      1.0.7              \r\n",
      "Keras                  2.3.1              \r\n",
      "Keras-Applications     1.0.8              \r\n",
      "Keras-Preprocessing    1.1.0              \r\n",
      "kiwisolver             1.1.0              \r\n",
      "llvmlite               0.31.0             \r\n",
      "locket                 0.2.0              \r\n",
      "Mako                   1.1.0              \r\n",
      "Markdown               3.2.1              \r\n",
      "MarkupSafe             1.1.1              \r\n",
      "matplotlib             3.1.3              \r\n",
      "mistune                0.8.4              \r\n",
      "mpmath                 1.1.0              \r\n",
      "msgpack                1.0.0              \r\n",
      "nbconvert              5.6.1              \r\n",
      "nbformat               5.0.4              \r\n",
      "networkx               2.4                \r\n",
      "notebook               6.0.3              \r\n",
      "numba                  0.48.0             \r\n",
      "numexpr                2.7.1              \r\n",
      "numpy                  1.18.1             \r\n",
      "oauthlib               3.0.1              \r\n",
      "olefile                0.46               \r\n",
      "opt-einsum             3.2.1              \r\n",
      "packaging              20.1               \r\n",
      "pamela                 1.0.0              \r\n",
      "pandas                 1.0.2              \r\n",
      "pandocfilters          1.4.2              \r\n",
      "parso                  0.6.2              \r\n",
      "partd                  1.1.0              \r\n",
      "patsy                  0.5.1              \r\n",
      "pexpect                4.8.0              \r\n",
      "pickleshare            0.7.5              \r\n",
      "Pillow                 7.0.0              \r\n",
      "pip                    20.0.2             \r\n",
      "prometheus-client      0.7.1              \r\n",
      "prompt-toolkit         3.0.4              \r\n",
      "protobuf               3.11.4             \r\n",
      "psutil                 5.7.0              \r\n",
      "ptyprocess             0.6.0              \r\n",
      "pyasn1                 0.4.8              \r\n",
      "pyasn1-modules         0.2.8              \r\n",
      "pycosat                0.6.3              \r\n",
      "pycparser              2.20               \r\n",
      "pycurl                 7.43.0.5           \r\n",
      "Pygments               2.6.1              \r\n",
      "PyJWT                  1.7.1              \r\n",
      "pyOpenSSL              19.1.0             \r\n",
      "pyparsing              2.4.6              \r\n",
      "pyrsistent             0.15.7             \r\n",
      "PySocks                1.7.1              \r\n",
      "python-dateutil        2.8.1              \r\n",
      "python-editor          1.0.4              \r\n",
      "python-json-logger     0.1.11             \r\n",
      "pytz                   2019.3             \r\n",
      "PyWavelets             1.1.1              \r\n",
      "PyYAML                 5.3                \r\n",
      "pyzmq                  19.0.0             \r\n",
      "requests               2.23.0             \r\n",
      "requests-oauthlib      1.3.0              \r\n",
      "rpy2                   3.1.0              \r\n",
      "rsa                    4.0                \r\n",
      "ruamel-yaml            0.15.80            \r\n",
      "ruamel.yaml            0.16.6             \r\n",
      "ruamel.yaml.clib       0.2.0              \r\n",
      "scikit-image           0.16.2             \r\n",
      "scikit-learn           0.22.2.post1       \r\n",
      "scipy                  1.4.1              \r\n",
      "seaborn                0.10.0             \r\n",
      "Send2Trash             1.5.0              \r\n",
      "setuptools             46.0.0.post20200311\r\n",
      "simplegeneric          0.8.1              \r\n",
      "six                    1.14.0             \r\n",
      "sortedcontainers       2.1.0              \r\n",
      "soupsieve              1.9.4              \r\n",
      "SQLAlchemy             1.3.15             \r\n",
      "statsmodels            0.11.1             \r\n",
      "sympy                  1.5.1              \r\n",
      "tblib                  1.6.0              \r\n",
      "tensorboard            2.1.1              \r\n",
      "tensorflow             2.1.0              \r\n",
      "tensorflow-estimator   2.1.0              \r\n",
      "termcolor              1.1.0              \r\n",
      "terminado              0.8.3              \r\n",
      "testpath               0.4.4              \r\n",
      "toolz                  0.10.0             \r\n",
      "tornado                6.0.4              \r\n",
      "tqdm                   4.43.0             \r\n",
      "traitlets              4.3.3              \r\n",
      "tzlocal                2.0.0              \r\n",
      "urllib3                1.25.7             \r\n",
      "vincent                0.4.4              \r\n",
      "wcwidth                0.1.8              \r\n",
      "webencodings           0.5.1              \r\n",
      "Werkzeug               1.0.1              \r\n",
      "wheel                  0.34.2             \r\n",
      "widgetsnbextension     3.5.1              \r\n",
      "wrapt                  1.12.1             \r\n",
      "xlrd                   1.2.0              \r\n",
      "zict                   2.0.0              \r\n",
      "zipp                   3.1.0              \r\n"
     ]
    }
   ],
   "source": [
    "!pip list"
   ]
  },
  {
   "cell_type": "markdown",
   "metadata": {},
   "source": [
    "## 1. モジュールのインポート"
   ]
  },
  {
   "cell_type": "code",
   "execution_count": 1,
   "metadata": {},
   "outputs": [
    {
     "name": "stderr",
     "output_type": "stream",
     "text": [
      "Using TensorFlow backend.\n"
     ]
    }
   ],
   "source": [
    "import os,re\n",
    "import keras\n",
    "from keras.datasets import mnist\n",
    "from keras.utils import to_categorical\n",
    "from keras.preprocessing.image import ImageDataGenerator\n",
    "from keras.preprocessing import image\n",
    "from keras import models\n",
    "from keras.models import Model\n",
    "from keras import Input\n",
    "from keras.layers import Activation, Conv2D, MaxPooling2D, Flatten, Dense\n",
    "from keras.callbacks import TensorBoard, ModelCheckpoint\n",
    "import matplotlib.pyplot as plt\n",
    "import numpy as np\n",
    "from sklearn.model_selection import train_test_split"
   ]
  },
  {
   "cell_type": "markdown",
   "metadata": {},
   "source": [
    "## 2. 学習データの可視化"
   ]
  },
  {
   "cell_type": "markdown",
   "metadata": {},
   "source": [
    "### 1. MINSTをロード"
   ]
  },
  {
   "cell_type": "code",
   "execution_count": 2,
   "metadata": {},
   "outputs": [
    {
     "name": "stdout",
     "output_type": "stream",
     "text": [
      "x_train   :  (48000, 28, 28)\n",
      "y_train   :  (48000,)\n",
      "x_val      :  (12000, 28, 28)\n",
      "y_val      :  (12000,)\n",
      "x_test    :  (10000, 28, 28)\n",
      "y_test    :  (10000,)\n"
     ]
    }
   ],
   "source": [
    "# 学習データとテストデータを取得する。\n",
    "(_x_train_val, _y_train_val), (_x_test, _y_test) = mnist.load_data()\n",
    "# 学習中の検証データがないので、train_test_split()を使って学習データ8割、検証データを2割に分割する。test_sizeが検証データの割合になっている。\n",
    "_x_train, _x_val, _y_train, _y_val = train_test_split(_x_train_val, _y_train_val, test_size=0.2)\n",
    "\n",
    "print(\"x_train   : \", _x_train.shape) # x_train   :  (48000, 28, 28)\n",
    "print(\"y_train   : \", _y_train.shape) # y_train   :  (48000,)\n",
    "print(\"x_val      : \", _x_val.shape) # x_val      :  (12000, 28, 28)\n",
    "print(\"y_val      : \", _y_val.shape) # y_val      :  (12000,)\n",
    "print(\"x_test    : \", _x_test.shape) # x_test    :  (10000, 28, 28)\n",
    "print(\"y_test    : \", _y_test.shape) # y_test    :  (10000,)"
   ]
  },
  {
   "cell_type": "markdown",
   "metadata": {},
   "source": [
    "### 2. 学習データを表示"
   ]
  },
  {
   "cell_type": "code",
   "execution_count": 3,
   "metadata": {},
   "outputs": [
    {
     "data": {
      "image/png": "[encoded data removed]",
      "text/plain": [
       "<Figure size 936x936 with 10 Axes>"
      ]
     },
     "metadata": {
      "needs_background": "light"
     },
     "output_type": "display_data"
    }
   ],
   "source": [
    "plt.figure(figsize=(13,13))\n",
    "\n",
    "# MNISTの0から9の画像をそれぞれ表示する。\n",
    "for i in range(10):\n",
    "    data = [(x,t) for x, t in zip(_x_train, _y_train) if t == i]\n",
    "    x, y = data[0]\n",
    "    \n",
    "    # 第1引数(縦に表示する量):5, 第2引数(横に表示する量): 2, 第3引数(位置の指定)\n",
    "    plt.subplot(2, 5, i+1)\n",
    "    # タイトルを表示する。対応する数と画像枚数を表示している。\n",
    "    plt.title(\"Number: {0}, Volume: {1}\".format(y, len(data)))\n",
    "    # 画像を見やすいように座標軸を非表示にする。\n",
    "    plt.axis(\"off\")\n",
    "    # 画像を表示\n",
    "    plt.imshow(x, cmap='gray')\n",
    "\n",
    "plt.tight_layout()\n",
    "plt.show()"
   ]
  },
  {
   "cell_type": "markdown",
   "metadata": {},
   "source": [
    "## データの前処理"
   ]
  },
  {
   "cell_type": "markdown",
   "metadata": {},
   "source": [
    "### 前処理用の関数を定義"
   ]
  },
  {
   "cell_type": "code",
   "execution_count": 4,
   "metadata": {},
   "outputs": [],
   "source": [
    "# 訓練、検証、テストデータの前処理用関数。\n",
    "def preprocess(data, label=False):\n",
    "    if label:\n",
    "        # 教師データはto_categorical()でone-hot-encodingする。\n",
    "        data = to_categorical(data)\n",
    "    else:\n",
    "        # 入力画像は、astype('float32')で型変換を行い、レンジを0-1にするために255で割る。\n",
    "        # 0-255 -> 0-1\n",
    "        data = data.astype('float32') / 255\n",
    "        # Kerasの入力データの形式は(ミニバッチサイズ、横幅、縦幅、チャネル数)である必要があるので、reshape()を使って形式を変換する。\n",
    "        # (sample, width, height) -> (sample, width, height, channel)\n",
    "        data = data.reshape((-1, 28, 28, 1))\n",
    "\n",
    "    return data"
   ]
  },
  {
   "cell_type": "markdown",
   "metadata": {},
   "source": [
    "### 訓練、検証、テストのデータに前処理関数を実行"
   ]
  },
  {
   "cell_type": "code",
   "execution_count": 5,
   "metadata": {},
   "outputs": [],
   "source": [
    "x_train = preprocess(_x_train)\n",
    "x_val= preprocess(_x_val)\n",
    "x_test = preprocess(_x_test)\n",
    "\n",
    "y_train = preprocess(_y_train, label=True)\n",
    "y_val = preprocess(_y_val, label=True)\n",
    "y_test = preprocess(_y_test, label=True)"
   ]
  },
  {
   "cell_type": "code",
   "execution_count": 33,
   "metadata": {},
   "outputs": [
    {
     "name": "stdout",
     "output_type": "stream",
     "text": [
      "(48000, 28, 28, 1)\n",
      "0.5529412 141.0000067949295\n",
      "(12000, 28, 28, 1)\n",
      "(10000, 28, 28, 1)\n",
      "1.0\n",
      "1.0\n",
      "1.0\n",
      "(48000, 10)\n",
      "(12000, 10)\n",
      "(10000, 10)\n"
     ]
    }
   ],
   "source": [
    "# 48000枚の横軸×縦軸の0~1の間の画素が存在してる\n",
    "print(x_train.shape) # (48000, 28, 28, 1)\n",
    "print(x_train[0][13][22][0], x_train[0][13][22][0] * 255) # 0.5529412 141.0000067949295\n",
    "print(x_val.shape) # (12000, 28, 28, 1)\n",
    "print(x_test.shape) # (10000, 28, 28, 1)\n",
    "print(x_train.max()) # 1.0\n",
    "print(x_val.max()) # 1.0\n",
    "print(y_test.max()) # 1.0\n",
    "print(y_train.shape) # (48000, 10)\n",
    "print(y_val.shape) # (12000, 10) \n",
    "print(y_test.shape) # (10000, 10)"
   ]
  },
  {
   "cell_type": "markdown",
   "metadata": {},
   "source": [
    "## モデル定義"
   ]
  },
  {
   "cell_type": "markdown",
   "metadata": {},
   "source": [
    "### Sequentialモデル"
   ]
  },
  {
   "cell_type": "code",
   "execution_count": 34,
   "metadata": {},
   "outputs": [],
   "source": [
    "def model_sequential():\n",
    "    activation = 'relu'\n",
    "\n",
    "    model = models.Sequential()\n",
    "\n",
    "    model.add(Conv2D(32, (3, 3), padding='same', name='conv1', input_shape=(28, 28 , 1)))\n",
    "    model.add(Activation(activation, name='act1'))\n",
    "    model.add(MaxPooling2D((2, 2), name='pool1'))\n",
    "\n",
    "    model.add(Conv2D(64, (3, 3), padding='same', name='conv2'))\n",
    "    model.add(Activation(activation, name='act2'))\n",
    "    model.add(MaxPooling2D((2, 2), name='pool2'))\n",
    "\n",
    "    model.add(Conv2D(64, (3, 3), padding='same', name='conv3'))\n",
    "    model.add(Activation(activation, name='act3'))\n",
    "\n",
    "    model.add(Flatten(name='flatten'))\n",
    "    model.add(Dense(64, name='dense4'))\n",
    "    model.add(Activation(activation, name='act4'))\n",
    "    model.add(Dense(10, name='dense5'))\n",
    "    model.add(Activation('softmax', name='last_act'))\n",
    "\n",
    "    return model"
   ]
  },
  {
   "cell_type": "code",
   "execution_count": null,
   "metadata": {},
   "outputs": [],
   "source": []
  }
 ],
 "metadata": {
  "kernelspec": {
   "display_name": "Python 3",
   "language": "python",
   "name": "python3"
  },
  "language_info": {
   "codemirror_mode": {
    "name": "ipython",
    "version": 3
   },
   "file_extension": ".py",
   "mimetype": "text/x-python",
   "name": "python",
   "nbconvert_exporter": "python",
   "pygments_lexer": "ipython3",
   "version": "3.7.6"
  }
 },
 "nbformat": 4,
 "nbformat_minor": 4
}
