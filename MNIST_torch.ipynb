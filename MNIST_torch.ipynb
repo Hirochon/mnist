{
 "cells": [
  {
   "cell_type": "code",
   "execution_count": 1,
   "metadata": {},
   "outputs": [
    {
     "name": "stdout",
     "output_type": "stream",
     "text": [
      "Package                Version            \r\n",
      "---------------------- -------------------\r\n",
      "absl-py                0.9.0              \r\n",
      "alembic                1.4.1              \r\n",
      "astor                  0.8.1              \r\n",
      "async-generator        1.10               \r\n",
      "attrs                  19.3.0             \r\n",
      "backcall               0.1.0              \r\n",
      "beautifulsoup4         4.8.2              \r\n",
      "bleach                 3.1.3              \r\n",
      "blinker                1.4                \r\n",
      "bokeh                  1.4.0              \r\n",
      "cachetools             4.1.0              \r\n",
      "certifi                2019.11.28         \r\n",
      "certipy                0.1.3              \r\n",
      "cffi                   1.14.0             \r\n",
      "chardet                3.0.4              \r\n",
      "click                  7.1.1              \r\n",
      "cloudpickle            1.3.0              \r\n",
      "conda                  4.8.2              \r\n",
      "conda-package-handling 1.6.0              \r\n",
      "cryptography           2.8                \r\n",
      "cycler                 0.10.0             \r\n",
      "Cython                 0.29.15            \r\n",
      "cytoolz                0.10.1             \r\n",
      "dask                   2.11.0             \r\n",
      "decorator              4.4.2              \r\n",
      "defusedxml             0.6.0              \r\n",
      "dill                   0.3.1.1            \r\n",
      "distributed            2.12.0             \r\n",
      "entrypoints            0.3                \r\n",
      "fsspec                 0.6.2              \r\n",
      "future                 0.18.2             \r\n",
      "gast                   0.2.2              \r\n",
      "google-auth            1.14.1             \r\n",
      "google-auth-oauthlib   0.4.1              \r\n",
      "google-pasta           0.2.0              \r\n",
      "grpcio                 1.28.1             \r\n",
      "h5py                   2.10.0             \r\n",
      "HeapDict               1.0.1              \r\n",
      "idna                   2.9                \r\n",
      "imageio                2.8.0              \r\n",
      "importlib-metadata     1.5.0              \r\n",
      "ipykernel              5.1.4              \r\n",
      "ipympl                 0.5.3              \r\n",
      "ipython                7.13.0             \r\n",
      "ipython-genutils       0.2.0              \r\n",
      "ipywidgets             7.5.1              \r\n",
      "jedi                   0.16.0             \r\n",
      "Jinja2                 2.11.1             \r\n",
      "joblib                 0.14.1             \r\n",
      "json5                  0.9.0              \r\n",
      "jsonschema             3.2.0              \r\n",
      "jupyter-client         6.0.0              \r\n",
      "jupyter-core           4.6.3              \r\n",
      "jupyter-telemetry      0.0.5              \r\n",
      "jupyterhub             1.1.0              \r\n",
      "jupyterlab             2.0.1              \r\n",
      "jupyterlab-server      1.0.7              \r\n",
      "Keras                  2.3.1              \r\n",
      "Keras-Applications     1.0.8              \r\n",
      "Keras-Preprocessing    1.1.0              \r\n",
      "kiwisolver             1.1.0              \r\n",
      "llvmlite               0.31.0             \r\n",
      "locket                 0.2.0              \r\n",
      "Mako                   1.1.0              \r\n",
      "Markdown               3.2.1              \r\n",
      "MarkupSafe             1.1.1              \r\n",
      "matplotlib             3.1.3              \r\n",
      "mistune                0.8.4              \r\n",
      "mpmath                 1.1.0              \r\n",
      "msgpack                1.0.0              \r\n",
      "nbconvert              5.6.1              \r\n",
      "nbformat               5.0.4              \r\n",
      "networkx               2.4                \r\n",
      "notebook               6.0.3              \r\n",
      "numba                  0.48.0             \r\n",
      "numexpr                2.7.1              \r\n",
      "numpy                  1.18.1             \r\n",
      "oauthlib               3.0.1              \r\n",
      "olefile                0.46               \r\n",
      "opt-einsum             3.2.1              \r\n",
      "packaging              20.1               \r\n",
      "pamela                 1.0.0              \r\n",
      "pandas                 1.0.2              \r\n",
      "pandocfilters          1.4.2              \r\n",
      "parso                  0.6.2              \r\n",
      "partd                  1.1.0              \r\n",
      "patsy                  0.5.1              \r\n",
      "pexpect                4.8.0              \r\n",
      "pickleshare            0.7.5              \r\n",
      "Pillow                 7.0.0              \r\n",
      "pip                    20.0.2             \r\n",
      "prometheus-client      0.7.1              \r\n",
      "prompt-toolkit         3.0.4              \r\n",
      "protobuf               3.11.4             \r\n",
      "psutil                 5.7.0              \r\n",
      "ptyprocess             0.6.0              \r\n",
      "pyasn1                 0.4.8              \r\n",
      "pyasn1-modules         0.2.8              \r\n",
      "pycosat                0.6.3              \r\n",
      "pycparser              2.20               \r\n",
      "pycurl                 7.43.0.5           \r\n",
      "Pygments               2.6.1              \r\n",
      "PyJWT                  1.7.1              \r\n",
      "pyOpenSSL              19.1.0             \r\n",
      "pyparsing              2.4.6              \r\n",
      "pyrsistent             0.15.7             \r\n",
      "PySocks                1.7.1              \r\n",
      "python-dateutil        2.8.1              \r\n",
      "python-editor          1.0.4              \r\n",
      "python-json-logger     0.1.11             \r\n",
      "pytz                   2019.3             \r\n",
      "PyWavelets             1.1.1              \r\n",
      "PyYAML                 5.3                \r\n",
      "pyzmq                  19.0.0             \r\n",
      "requests               2.23.0             \r\n",
      "requests-oauthlib      1.3.0              \r\n",
      "rpy2                   3.1.0              \r\n",
      "rsa                    4.0                \r\n",
      "ruamel-yaml            0.15.80            \r\n",
      "ruamel.yaml            0.16.6             \r\n",
      "ruamel.yaml.clib       0.2.0              \r\n",
      "scikit-image           0.16.2             \r\n",
      "scikit-learn           0.22.2.post1       \r\n",
      "scipy                  1.4.1              \r\n",
      "seaborn                0.10.0             \r\n",
      "Send2Trash             1.5.0              \r\n",
      "setuptools             46.0.0.post20200311\r\n",
      "simplegeneric          0.8.1              \r\n",
      "six                    1.14.0             \r\n",
      "sortedcontainers       2.1.0              \r\n",
      "soupsieve              1.9.4              \r\n",
      "SQLAlchemy             1.3.15             \r\n",
      "statsmodels            0.11.1             \r\n",
      "sympy                  1.5.1              \r\n",
      "tblib                  1.6.0              \r\n",
      "tensorboard            2.1.1              \r\n",
      "tensorflow             2.1.0              \r\n",
      "tensorflow-estimator   2.1.0              \r\n",
      "termcolor              1.1.0              \r\n",
      "terminado              0.8.3              \r\n",
      "testpath               0.4.4              \r\n",
      "toolz                  0.10.0             \r\n",
      "torch                  1.5.0              \r\n",
      "torchvision            0.6.0              \r\n",
      "tornado                6.0.4              \r\n",
      "tqdm                   4.43.0             \r\n",
      "traitlets              4.3.3              \r\n",
      "tzlocal                2.0.0              \r\n",
      "urllib3                1.25.7             \r\n",
      "vincent                0.4.4              \r\n",
      "wcwidth                0.1.8              \r\n",
      "webencodings           0.5.1              \r\n",
      "Werkzeug               1.0.1              \r\n",
      "wheel                  0.34.2             \r\n",
      "widgetsnbextension     3.5.1              \r\n",
      "wrapt                  1.12.1             \r\n",
      "xlrd                   1.2.0              \r\n",
      "zict                   2.0.0              \r\n",
      "zipp                   3.1.0              \r\n"
     ]
    }
   ],
   "source": [
    "!pip list"
   ]
  },
  {
   "cell_type": "code",
   "execution_count": 2,
   "metadata": {},
   "outputs": [],
   "source": [
    "import torch\n",
    "# torchvisionはデータのロードや前(下?)処理に関する処理が入っている\n",
    "import torchvision\n",
    "import torchvision.transforms as transforms\n",
    "import numpy as np"
   ]
  },
  {
   "cell_type": "code",
   "execution_count": 3,
   "metadata": {},
   "outputs": [],
   "source": [
    "# transform.Composeでデータロード後の前(下?)処理の関数を構成スる\n",
    "transform = transforms.Compose(\n",
    "    # torch.Tensorというテンソル型に変換する\n",
    "    [transforms.ToTensor(),\n",
    "     # Normalizeで第一引数のタプルが3チャネル(RGB)の平均を表す。第2引数のタプルが標準偏差。この2つで正規化する。\n",
    "     transforms.Normalize((0.5, ), (0.5, ))])\n",
    "\n",
    "# MNISTを読み込むやつ `root=`でディレクトリ指定\n",
    "# train(True or False)で訓練用/テスト用をロード\n",
    "# downloadでディレクトリに実際ダウンロードするか否か\n",
    "trainset = torchvision.datasets.MNIST(root='./data', \n",
    "                                        train=True,\n",
    "                                        download=True,\n",
    "                                        transform=transform)\n",
    "\n",
    "# データをロードしてるみたい 1:データセット, 2:バッチサイズ, 3:epochごとにシャッフル, 4:サブプロセスでいくつ動かすのか\n",
    "trainloader = torch.utils.data.DataLoader(trainset,\n",
    "                                            batch_size=100,\n",
    "                                            shuffle=True,\n",
    "                                            num_workers=2)\n",
    "\n",
    "# MNISTのテストデータを読み込んでる\n",
    "testset = torchvision.datasets.MNIST(root='./data', \n",
    "                                        train=False, \n",
    "                                        download=True, \n",
    "                                        transform=transform)\n",
    "testloader = torch.utils.data.DataLoader(testset, \n",
    "                                            batch_size=100,\n",
    "                                            shuffle=False, \n",
    "                                            num_workers=2)\n",
    "\n",
    "classes = tuple(np.linspace(0, 9, 10, dtype=np.uint8))"
   ]
  },
  {
   "cell_type": "code",
   "execution_count": 4,
   "metadata": {},
   "outputs": [],
   "source": [
    "import torch.nn as nn\n",
    "import torch.nn.functional as F\n",
    "\n",
    "\n",
    "class Net(nn.Module):\n",
    "    def __init__(self):\n",
    "        super(Net, self).__init__()\n",
    "        # 引数は左から(インプットのチャネル数, アウトプットのチャネル数, カーネルサイズ(タプル入力で正方形以外も可能))\n",
    "        self.conv1 = nn.Conv2d(1, 32, 3) # 28x28x32 -> 26x26x32\n",
    "        # ちなみに↑このCov2dの引数以降にストライド(default:1)とパディング(default:0)を設定できる\n",
    "        self.conv2 = nn.Conv2d(32, 64, 3) # 26x26x64 -> 24x24x64 \n",
    "        self.pool = nn.MaxPool2d(2, 2) # 24x24x64 -> 12x12x64\n",
    "        # p=0.5がデフォルト\n",
    "        self.dropout1 = nn.Dropout2d()\n",
    "        # ゆーたら全結合層 第一引数はチャネル数*最後のプーリング層の出力マップのサイズ\n",
    "        self.fc1 = nn.Linear(12 * 12 * 64, 128)\n",
    "        self.dropout2 = nn.Dropout2d()\n",
    "        self.fc2 = nn.Linear(128, 10)\n",
    "\n",
    "    def forward(self, x):\n",
    "        # 入力→conv1→relu→\n",
    "        x = F.relu(self.conv1(x))\n",
    "        # conv2→relu→pool→\n",
    "        x = self.pool(F.relu(self.conv2(x)))\n",
    "        # dropuot→\n",
    "        x = self.dropout1(x)\n",
    "        # 第一引数を-1, 第二引数の指定したサイズでテンソル行列へ変形してくれる\n",
    "        x = x.view(-1, 12 * 12 * 64)\n",
    "        # 全結合→relu→\n",
    "        x = F.relu(self.fc1(x))\n",
    "        # dropout→\n",
    "        x = self.dropout2(x)\n",
    "        # 全結合→\n",
    "        x = self.fc2(x)\n",
    "        return x\n",
    "    \n",
    "net = Net()"
   ]
  },
  {
   "cell_type": "code",
   "execution_count": 12,
   "metadata": {},
   "outputs": [
    {
     "name": "stdout",
     "output_type": "stream",
     "text": [
      "[1,   100] loss: 2.117\n",
      "[1,   200] loss: 0.889\n",
      "[1,   300] loss: 0.559\n",
      "[1,   400] loss: 0.482\n",
      "[1,   500] loss: 0.399\n",
      "[1,   600] loss: 0.360\n",
      "[2,   100] loss: 0.326\n",
      "[2,   200] loss: 0.279\n",
      "[2,   300] loss: 0.257\n",
      "[2,   400] loss: 0.236\n",
      "[2,   500] loss: 0.205\n",
      "[2,   600] loss: 0.211\n",
      "[3,   100] loss: 0.204\n",
      "[3,   200] loss: 0.164\n",
      "[3,   300] loss: 0.176\n",
      "[3,   400] loss: 0.168\n",
      "[3,   500] loss: 0.160\n",
      "[3,   600] loss: 0.146\n",
      "Finished Training\n"
     ]
    }
   ],
   "source": [
    "import torch.optim as optim\n",
    "\n",
    "# 損失関数の定義 ソフトマックス公差エントロピー\n",
    "criterion = nn.CrossEntropyLoss()\n",
    "# SGD(確率的勾配降下法) lr:学習率, momentum: 摩擦係数的なw, 普通はAdam使う？\n",
    "optimizer = optim.SGD(net.parameters(),\n",
    "                      lr=0.0005, momentum=0.99, nesterov=True)\n",
    "\n",
    "epochs = 3\n",
    "\n",
    "for epoch in range(epochs):\n",
    "    running_loss = 0.0\n",
    "    # enumerateはインデックスの開始を第2引数で指定できる(これ0消していいんじゃないw)\n",
    "    for i, (inputs, labels) in enumerate(trainloader, 0):\n",
    "        # zero the parameter gradients(勾配の初期化) 勾配が実行されるごとに加算\n",
    "        optimizer.zero_grad()\n",
    "\n",
    "        # forward + backward + optimize\n",
    "        outputs = net(inputs)\n",
    "        loss = criterion(outputs, labels)\n",
    "        # 自動微分！\n",
    "        loss.backward()\n",
    "        # パラメータの更新を行う\n",
    "        optimizer.step()\n",
    "\n",
    "        # print statistics\n",
    "        running_loss += loss.item()\n",
    "        if i % 100 == 99:\n",
    "            print('[{:d}, {:5d}] loss: {:.3f}'\n",
    "                    .format(epoch + 1, i + 1, running_loss / 100))\n",
    "            running_loss = 0.0\n",
    "\n",
    "print('Finished Training')"
   ]
  },
  {
   "cell_type": "code",
   "execution_count": 5,
   "metadata": {},
   "outputs": [
    {
     "name": "stdout",
     "output_type": "stream",
     "text": [
      "Net(\n",
      "  (conv1): Conv2d(1, 32, kernel_size=(3, 3), stride=(1, 1))\n",
      "  (conv2): Conv2d(32, 64, kernel_size=(3, 3), stride=(1, 1))\n",
      "  (pool): MaxPool2d(kernel_size=2, stride=2, padding=0, dilation=1, ceil_mode=False)\n",
      "  (dropout1): Dropout2d(p=0.5, inplace=False)\n",
      "  (fc1): Linear(in_features=9216, out_features=128, bias=True)\n",
      "  (dropout2): Dropout2d(p=0.5, inplace=False)\n",
      "  (fc2): Linear(in_features=128, out_features=10, bias=True)\n",
      ")\n",
      "torch.Size([32, 1, 3, 3])\n",
      "torch.Size([32])\n",
      "torch.Size([64, 32, 3, 3])\n",
      "torch.Size([64])\n",
      "torch.Size([128, 9216])\n",
      "torch.Size([128])\n",
      "torch.Size([10, 128])\n",
      "torch.Size([10])\n"
     ]
    }
   ],
   "source": [
    "print(net)\n",
    "params = list(net.parameters())\n",
    "for param in params:\n",
    "    print(param.size())"
   ]
  },
  {
   "cell_type": "code",
   "execution_count": 6,
   "metadata": {},
   "outputs": [
    {
     "data": {
      "text/plain": [
       "Dataset MNIST\n",
       "    Number of datapoints: 60000\n",
       "    Root location: ./data\n",
       "    Split: Train\n",
       "    StandardTransform\n",
       "Transform: Compose(\n",
       "               ToTensor()\n",
       "               Normalize(mean=(0.5,), std=(0.5,))\n",
       "           )"
      ]
     },
     "execution_count": 6,
     "metadata": {},
     "output_type": "execute_result"
    }
   ],
   "source": [
    "trainset"
   ]
  },
  {
   "cell_type": "code",
   "execution_count": 14,
   "metadata": {},
   "outputs": [],
   "source": [
    "# for i, (inputs, labels) in enumerate(trainloader, 0):\n",
    "    # print(inputs.size()) #torch.Size([100, 1, 28, 28]) バッチサイズとチャネル,W,H\n",
    "    # print(labels) # 0~9のバッチのラベル?\n",
    "    # print(i) # 0~600 恐らくバッチサイズが100なので600 * 100の60000データ数なのかな"
   ]
  },
  {
   "cell_type": "code",
   "execution_count": 35,
   "metadata": {},
   "outputs": [
    {
     "data": {
      "image/png": "[encoded data removed]",
      "text/plain": [
       "<Figure size 432x288 with 1 Axes>"
      ]
     },
     "metadata": {
      "needs_background": "light"
     },
     "output_type": "display_data"
    },
    {
     "name": "stdout",
     "output_type": "stream",
     "text": [
      "tensor([1, 3, 0, 2, 1, 5, 6, 9, 6, 1, 0, 1, 7, 0, 3, 6, 1, 7, 2, 5, 9, 5, 7, 4,\n",
      "        6, 2, 9, 9, 7, 3, 8, 2, 8, 3, 3, 8, 3, 3, 4, 5, 0, 2, 2, 3, 7, 6, 0, 5,\n",
      "        2, 5, 3, 1, 4, 7, 6, 5, 8, 5, 9, 7, 5, 7, 2, 6, 0, 4, 2, 7, 4, 4, 5, 2,\n",
      "        3, 7, 6, 1, 3, 4, 5, 5, 4, 7, 9, 2, 8, 8, 3, 6, 6, 8, 2, 0, 0, 3, 5, 6,\n",
      "        7, 3, 0, 5])\n"
     ]
    }
   ],
   "source": [
    "import matplotlib.pyplot as plt\n",
    "import numpy as np\n",
    "%matplotlib inline\n",
    "\n",
    "def imshow(img):\n",
    "    img = img / 2 + 0.5\n",
    "    npimg = img.numpy()\n",
    "    plt.imshow(np.transpose(npimg, (1, 2, 0)))\n",
    "    plt.show()\n",
    "\n",
    "\n",
    "# 訓練データをランダムに取得\n",
    "dataiter = iter(trainloader)\n",
    "images, labels = dataiter.next()\n",
    "# 画像の表示\n",
    "imshow(torchvision.utils.make_grid(images))\n",
    "print(labels)"
   ]
  },
  {
   "cell_type": "code",
   "execution_count": 13,
   "metadata": {},
   "outputs": [
    {
     "name": "stdout",
     "output_type": "stream",
     "text": [
      "Accuracy: 95.93 %%\n"
     ]
    }
   ],
   "source": [
    "correct = 0\n",
    "total = 0\n",
    "\n",
    "with torch.no_grad():\n",
    "    for (images, labels) in testloader:\n",
    "        outputs = net(images)\n",
    "        _, predicted = torch.max(outputs.data, 1)\n",
    "        total += labels.size(0)\n",
    "        correct += (predicted == labels).sum().item()\n",
    "print('Accuracy: {:.2f} %%'.format(100 * float(correct/total)))"
   ]
  },
  {
   "cell_type": "markdown",
   "metadata": {},
   "source": [
    "## Dropout"
   ]
  },
  {
   "cell_type": "code",
   "execution_count": 43,
   "metadata": {},
   "outputs": [
    {
     "name": "stdout",
     "output_type": "stream",
     "text": [
      "tensor([[ 0.6639, -3.1253, -1.0637],\n",
      "        [-0.5307, -0.0000, -0.0000],\n",
      "        [ 0.0000, -0.0000,  2.4989]])\n"
     ]
    }
   ],
   "source": [
    "torch.cuda.is_available()\n",
    "m = nn.Dropout2d(p=0.5)\n",
    "input = torch.randn(3, 3)\n",
    "output = m(input)\n",
    "print(output)"
   ]
  },
  {
   "cell_type": "markdown",
   "metadata": {},
   "source": [
    "## 自動微分 backward"
   ]
  },
  {
   "cell_type": "code",
   "execution_count": 53,
   "metadata": {},
   "outputs": [
    {
     "name": "stdout",
     "output_type": "stream",
     "text": [
      "tensor(112., grad_fn=<AddBackward0>)\n"
     ]
    }
   ],
   "source": [
    "x = torch.tensor(4.0, requires_grad = True)\n",
    "c = torch.tensor(8.0)\n",
    "b = torch.tensor(5.0)\n",
    "y = c*x + b*x**2\n",
    "\n",
    "print(y)"
   ]
  },
  {
   "cell_type": "code",
   "execution_count": 54,
   "metadata": {},
   "outputs": [],
   "source": [
    "y.backward()"
   ]
  },
  {
   "cell_type": "code",
   "execution_count": 55,
   "metadata": {},
   "outputs": [
    {
     "name": "stdout",
     "output_type": "stream",
     "text": [
      "tensor(48.)\n"
     ]
    }
   ],
   "source": [
    "print(x.grad)"
   ]
  },
  {
   "cell_type": "code",
   "execution_count": null,
   "metadata": {},
   "outputs": [],
   "source": []
  }
 ],
 "metadata": {
  "kernelspec": {
   "display_name": "Python 3",
   "language": "python",
   "name": "python3"
  },
  "language_info": {
   "codemirror_mode": {
    "name": "ipython",
    "version": 3
   },
   "file_extension": ".py",
   "mimetype": "text/x-python",
   "name": "python",
   "nbconvert_exporter": "python",
   "pygments_lexer": "ipython3",
   "version": "3.7.6"
  }
 },
 "nbformat": 4,
 "nbformat_minor": 4
}
