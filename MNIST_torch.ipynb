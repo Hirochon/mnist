{
 "cells": [
  {
   "cell_type": "code",
   "execution_count": 1,
   "metadata": {},
   "outputs": [
    {
     "name": "stdout",
     "output_type": "stream",
     "text": [
      "Package                Version            \r\n",
      "---------------------- -------------------\r\n",
      "absl-py                0.9.0              \r\n",
      "alembic                1.4.1              \r\n",
      "astor                  0.8.1              \r\n",
      "async-generator        1.10               \r\n",
      "attrs                  19.3.0             \r\n",
      "backcall               0.1.0              \r\n",
      "beautifulsoup4         4.8.2              \r\n",
      "bleach                 3.1.3              \r\n",
      "blinker                1.4                \r\n",
      "bokeh                  1.4.0              \r\n",
      "cachetools             4.1.0              \r\n",
      "certifi                2019.11.28         \r\n",
      "certipy                0.1.3              \r\n",
      "cffi                   1.14.0             \r\n",
      "chardet                3.0.4              \r\n",
      "click                  7.1.1              \r\n",
      "cloudpickle            1.3.0              \r\n",
      "conda                  4.8.2              \r\n",
      "conda-package-handling 1.6.0              \r\n",
      "cryptography           2.8                \r\n",
      "cycler                 0.10.0             \r\n",
      "Cython                 0.29.15            \r\n",
      "cytoolz                0.10.1             \r\n",
      "dask                   2.11.0             \r\n",
      "decorator              4.4.2              \r\n",
      "defusedxml             0.6.0              \r\n",
      "dill                   0.3.1.1            \r\n",
      "distributed            2.12.0             \r\n",
      "entrypoints            0.3                \r\n",
      "fsspec                 0.6.2              \r\n",
      "future                 0.18.2             \r\n",
      "gast                   0.2.2              \r\n",
      "google-auth            1.14.1             \r\n",
      "google-auth-oauthlib   0.4.1              \r\n",
      "google-pasta           0.2.0              \r\n",
      "grpcio                 1.28.1             \r\n",
      "h5py                   2.10.0             \r\n",
      "HeapDict               1.0.1              \r\n",
      "idna                   2.9                \r\n",
      "imageio                2.8.0              \r\n",
      "importlib-metadata     1.5.0              \r\n",
      "ipykernel              5.1.4              \r\n",
      "ipympl                 0.5.3              \r\n",
      "ipython                7.13.0             \r\n",
      "ipython-genutils       0.2.0              \r\n",
      "ipywidgets             7.5.1              \r\n",
      "jedi                   0.16.0             \r\n",
      "Jinja2                 2.11.1             \r\n",
      "joblib                 0.14.1             \r\n",
      "json5                  0.9.0              \r\n",
      "jsonschema             3.2.0              \r\n",
      "jupyter-client         6.0.0              \r\n",
      "jupyter-core           4.6.3              \r\n",
      "jupyter-telemetry      0.0.5              \r\n",
      "jupyterhub             1.1.0              \r\n",
      "jupyterlab             2.0.1              \r\n",
      "jupyterlab-server      1.0.7              \r\n",
      "Keras                  2.3.1              \r\n",
      "Keras-Applications     1.0.8              \r\n",
      "Keras-Preprocessing    1.1.0              \r\n",
      "kiwisolver             1.1.0              \r\n",
      "llvmlite               0.31.0             \r\n",
      "locket                 0.2.0              \r\n",
      "Mako                   1.1.0              \r\n",
      "Markdown               3.2.1              \r\n",
      "MarkupSafe             1.1.1              \r\n",
      "matplotlib             3.1.3              \r\n",
      "mistune                0.8.4              \r\n",
      "mpmath                 1.1.0              \r\n",
      "msgpack                1.0.0              \r\n",
      "nbconvert              5.6.1              \r\n",
      "nbformat               5.0.4              \r\n",
      "networkx               2.4                \r\n",
      "notebook               6.0.3              \r\n",
      "numba                  0.48.0             \r\n",
      "numexpr                2.7.1              \r\n",
      "numpy                  1.18.1             \r\n",
      "oauthlib               3.0.1              \r\n",
      "olefile                0.46               \r\n",
      "opt-einsum             3.2.1              \r\n",
      "packaging              20.1               \r\n",
      "pamela                 1.0.0              \r\n",
      "pandas                 1.0.2              \r\n",
      "pandocfilters          1.4.2              \r\n",
      "parso                  0.6.2              \r\n",
      "partd                  1.1.0              \r\n",
      "patsy                  0.5.1              \r\n",
      "pexpect                4.8.0              \r\n",
      "pickleshare            0.7.5              \r\n",
      "Pillow                 7.0.0              \r\n",
      "pip                    20.0.2             \r\n",
      "prometheus-client      0.7.1              \r\n",
      "prompt-toolkit         3.0.4              \r\n",
      "protobuf               3.11.4             \r\n",
      "psutil                 5.7.0              \r\n",
      "ptyprocess             0.6.0              \r\n",
      "pyasn1                 0.4.8              \r\n",
      "pyasn1-modules         0.2.8              \r\n",
      "pycosat                0.6.3              \r\n",
      "pycparser              2.20               \r\n",
      "pycurl                 7.43.0.5           \r\n",
      "Pygments               2.6.1              \r\n",
      "PyJWT                  1.7.1              \r\n",
      "pyOpenSSL              19.1.0             \r\n",
      "pyparsing              2.4.6              \r\n",
      "pyrsistent             0.15.7             \r\n",
      "PySocks                1.7.1              \r\n",
      "python-dateutil        2.8.1              \r\n",
      "python-editor          1.0.4              \r\n",
      "python-json-logger     0.1.11             \r\n",
      "pytz                   2019.3             \r\n",
      "PyWavelets             1.1.1              \r\n",
      "PyYAML                 5.3                \r\n",
      "pyzmq                  19.0.0             \r\n",
      "requests               2.23.0             \r\n",
      "requests-oauthlib      1.3.0              \r\n",
      "rpy2                   3.1.0              \r\n",
      "rsa                    4.0                \r\n",
      "ruamel-yaml            0.15.80            \r\n",
      "ruamel.yaml            0.16.6             \r\n",
      "ruamel.yaml.clib       0.2.0              \r\n",
      "scikit-image           0.16.2             \r\n",
      "scikit-learn           0.22.2.post1       \r\n",
      "scipy                  1.4.1              \r\n",
      "seaborn                0.10.0             \r\n",
      "Send2Trash             1.5.0              \r\n",
      "setuptools             46.0.0.post20200311\r\n",
      "simplegeneric          0.8.1              \r\n",
      "six                    1.14.0             \r\n",
      "sortedcontainers       2.1.0              \r\n",
      "soupsieve              1.9.4              \r\n",
      "SQLAlchemy             1.3.15             \r\n",
      "statsmodels            0.11.1             \r\n",
      "sympy                  1.5.1              \r\n",
      "tblib                  1.6.0              \r\n",
      "tensorboard            2.1.1              \r\n",
      "tensorflow             2.1.0              \r\n",
      "tensorflow-estimator   2.1.0              \r\n",
      "termcolor              1.1.0              \r\n",
      "terminado              0.8.3              \r\n",
      "testpath               0.4.4              \r\n",
      "toolz                  0.10.0             \r\n",
      "torch                  1.5.0              \r\n",
      "torchvision            0.6.0              \r\n",
      "tornado                6.0.4              \r\n",
      "tqdm                   4.43.0             \r\n",
      "traitlets              4.3.3              \r\n",
      "tzlocal                2.0.0              \r\n",
      "urllib3                1.25.7             \r\n",
      "vincent                0.4.4              \r\n",
      "wcwidth                0.1.8              \r\n",
      "webencodings           0.5.1              \r\n",
      "Werkzeug               1.0.1              \r\n",
      "wheel                  0.34.2             \r\n",
      "widgetsnbextension     3.5.1              \r\n",
      "wrapt                  1.12.1             \r\n",
      "xlrd                   1.2.0              \r\n",
      "zict                   2.0.0              \r\n",
      "zipp                   3.1.0              \r\n"
     ]
    }
   ],
   "source": [
    "!pip list"
   ]
  },
  {
   "cell_type": "code",
   "execution_count": 2,
   "metadata": {},
   "outputs": [],
   "source": [
    "import torch\n",
    "import torchvision\n",
    "import torchvision.transforms as transforms\n",
    "import numpy as np"
   ]
  },
  {
   "cell_type": "code",
   "execution_count": 3,
   "metadata": {},
   "outputs": [
    {
     "name": "stdout",
     "output_type": "stream",
     "text": [
      "Downloading http://yann.lecun.com/exdb/mnist/train-images-idx3-ubyte.gz to ./data/MNIST/raw/train-images-idx3-ubyte.gz\n"
     ]
    },
    {
     "data": {
      "application/vnd.jupyter.widget-view+json": {
       "model_id": "eee66a84c26d426fbf61ea3a3db3c273",
       "version_major": 2,
       "version_minor": 0
      },
      "text/plain": [
       "HBox(children=(FloatProgress(value=1.0, bar_style='info', max=1.0), HTML(value='')))"
      ]
     },
     "metadata": {},
     "output_type": "display_data"
    },
    {
     "name": "stdout",
     "output_type": "stream",
     "text": [
      "Extracting ./data/MNIST/raw/train-images-idx3-ubyte.gz to ./data/MNIST/raw\n",
      "Downloading http://yann.lecun.com/exdb/mnist/train-labels-idx1-ubyte.gz to ./data/MNIST/raw/train-labels-idx1-ubyte.gz\n"
     ]
    },
    {
     "data": {
      "application/vnd.jupyter.widget-view+json": {
       "model_id": "342e744dbdf842f5a387576bc154f5f5",
       "version_major": 2,
       "version_minor": 0
      },
      "text/plain": [
       "HBox(children=(FloatProgress(value=1.0, bar_style='info', max=1.0), HTML(value='')))"
      ]
     },
     "metadata": {},
     "output_type": "display_data"
    },
    {
     "name": "stdout",
     "output_type": "stream",
     "text": [
      "Extracting ./data/MNIST/raw/train-labels-idx1-ubyte.gz to ./data/MNIST/raw\n",
      "Downloading http://yann.lecun.com/exdb/mnist/t10k-images-idx3-ubyte.gz to ./data/MNIST/raw/t10k-images-idx3-ubyte.gz\n"
     ]
    },
    {
     "data": {
      "application/vnd.jupyter.widget-view+json": {
       "model_id": "9baf4c4d625c425a9b0bd1d00e6e7951",
       "version_major": 2,
       "version_minor": 0
      },
      "text/plain": [
       "HBox(children=(FloatProgress(value=1.0, bar_style='info', max=1.0), HTML(value='')))"
      ]
     },
     "metadata": {},
     "output_type": "display_data"
    },
    {
     "name": "stdout",
     "output_type": "stream",
     "text": [
      "Extracting ./data/MNIST/raw/t10k-images-idx3-ubyte.gz to ./data/MNIST/raw\n",
      "Downloading http://yann.lecun.com/exdb/mnist/t10k-labels-idx1-ubyte.gz to ./data/MNIST/raw/t10k-labels-idx1-ubyte.gz\n",
      "\n"
     ]
    },
    {
     "data": {
      "application/vnd.jupyter.widget-view+json": {
       "model_id": "e69be7e3f76c44a48b73b616f336dbae",
       "version_major": 2,
       "version_minor": 0
      },
      "text/plain": [
       "HBox(children=(FloatProgress(value=1.0, bar_style='info', max=1.0), HTML(value='')))"
      ]
     },
     "metadata": {},
     "output_type": "display_data"
    },
    {
     "name": "stdout",
     "output_type": "stream",
     "text": [
      "Extracting ./data/MNIST/raw/t10k-labels-idx1-ubyte.gz to ./data/MNIST/raw\n",
      "Processing...\n",
      "Done!\n"
     ]
    },
    {
     "name": "stderr",
     "output_type": "stream",
     "text": [
      "/pytorch/torch/csrc/utils/tensor_numpy.cpp:141: UserWarning: The given NumPy array is not writeable, and PyTorch does not support non-writeable tensors. This means you can write to the underlying (supposedly non-writeable) NumPy array using the tensor. You may want to copy the array to protect its data or make it writeable before converting it to a tensor. This type of warning will be suppressed for the rest of this program.\n"
     ]
    }
   ],
   "source": [
    "transform = transforms.Compose(\n",
    "    [transforms.ToTensor(),\n",
    "     transforms.Normalize((0.5, ), (0.5, ))])\n",
    "trainset = torchvision.datasets.MNIST(root='./data', \n",
    "                                        train=True,\n",
    "                                        download=True,\n",
    "                                        transform=transform)\n",
    "trainloader = torch.utils.data.DataLoader(trainset,\n",
    "                                            batch_size=100,\n",
    "                                            shuffle=True,\n",
    "                                            num_workers=2)\n",
    "\n",
    "testset = torchvision.datasets.MNIST(root='./data', \n",
    "                                        train=False, \n",
    "                                        download=True, \n",
    "                                        transform=transform)\n",
    "testloader = torch.utils.data.DataLoader(testset, \n",
    "                                            batch_size=100,\n",
    "                                            shuffle=False, \n",
    "                                            num_workers=2)\n",
    "\n",
    "classes = tuple(np.linspace(0, 9, 10, dtype=np.uint8))"
   ]
  },
  {
   "cell_type": "code",
   "execution_count": 14,
   "metadata": {},
   "outputs": [
    {
     "name": "stdout",
     "output_type": "stream",
     "text": [
      "Dataset MNIST\n",
      "    Number of datapoints: 60000\n",
      "    Root location: ./data\n",
      "    Split: Train\n",
      "    StandardTransform\n",
      "Transform: Compose(\n",
      "               ToTensor()\n",
      "               Normalize(mean=(0.5,), std=(0.5,))\n",
      "           )\n"
     ]
    }
   ],
   "source": [
    "print(trainset)"
   ]
  },
  {
   "cell_type": "code",
   "execution_count": 8,
   "metadata": {},
   "outputs": [],
   "source": [
    "import torch.nn as nn\n",
    "import torch.nn.functional as F\n",
    "\n",
    "\n",
    "class Net(nn.Module):\n",
    "    def __init__(self):\n",
    "        super(Net, self).__init__()\n",
    "        self.conv1 = nn.Conv2d(1, 32, 3) # 28x28x32 -> 26x26x32\n",
    "        self.conv2 = nn.Conv2d(32, 64, 3) # 26x26x64 -> 24x24x64 \n",
    "        self.pool = nn.MaxPool2d(2, 2) # 24x24x64 -> 12x12x64\n",
    "        self.dropout1 = nn.Dropout2d()\n",
    "        self.fc1 = nn.Linear(12 * 12 * 64, 128)\n",
    "        self.dropout2 = nn.Dropout2d()\n",
    "        self.fc2 = nn.Linear(128, 10)\n",
    "\n",
    "    def forward(self, x):\n",
    "        x = F.relu(self.conv1(x))\n",
    "        x = self.pool(F.relu(self.conv2(x)))\n",
    "        x = self.dropout1(x)\n",
    "        x = x.view(-1, 12 * 12 * 64)\n",
    "        x = F.relu(self.fc1(x))\n",
    "        x = self.dropout2(x)\n",
    "        x = self.fc2(x)\n",
    "        return x\n",
    "    \n",
    "net = Net()"
   ]
  },
  {
   "cell_type": "code",
   "execution_count": 10,
   "metadata": {},
   "outputs": [],
   "source": [
    "import torch.optim as optim\n",
    "\n",
    "criterion = nn.CrossEntropyLoss()\n",
    "optimizer = optim.SGD(net.parameters(),\n",
    "                      lr=0.0005, momentum=0.99, nesterov=True)"
   ]
  },
  {
   "cell_type": "code",
   "execution_count": 12,
   "metadata": {},
   "outputs": [
    {
     "name": "stdout",
     "output_type": "stream",
     "text": [
      "[1,   100] loss: 2.117\n",
      "[1,   200] loss: 0.889\n",
      "[1,   300] loss: 0.559\n",
      "[1,   400] loss: 0.482\n",
      "[1,   500] loss: 0.399\n",
      "[1,   600] loss: 0.360\n",
      "[2,   100] loss: 0.326\n",
      "[2,   200] loss: 0.279\n",
      "[2,   300] loss: 0.257\n",
      "[2,   400] loss: 0.236\n",
      "[2,   500] loss: 0.205\n",
      "[2,   600] loss: 0.211\n",
      "[3,   100] loss: 0.204\n",
      "[3,   200] loss: 0.164\n",
      "[3,   300] loss: 0.176\n",
      "[3,   400] loss: 0.168\n",
      "[3,   500] loss: 0.160\n",
      "[3,   600] loss: 0.146\n",
      "Finished Training\n"
     ]
    }
   ],
   "source": [
    "epochs = 3\n",
    "\n",
    "for epoch in range(epochs):\n",
    "    running_loss = 0.0\n",
    "    for i, (inputs, labels) in enumerate(trainloader, 0):\n",
    "        # zero the parameter gradients\n",
    "        optimizer.zero_grad()\n",
    "\n",
    "        # forward + backward + optimize\n",
    "        outputs = net(inputs)\n",
    "        loss = criterion(outputs, labels)\n",
    "        loss.backward()\n",
    "        optimizer.step()\n",
    "\n",
    "        # print statistics\n",
    "        running_loss += loss.item()\n",
    "        if i % 100 == 99:\n",
    "            print('[{:d}, {:5d}] loss: {:.3f}'\n",
    "                    .format(epoch + 1, i + 1, running_loss / 100))\n",
    "            running_loss = 0.0\n",
    "\n",
    "print('Finished Training')"
   ]
  },
  {
   "cell_type": "code",
   "execution_count": 13,
   "metadata": {},
   "outputs": [
    {
     "name": "stdout",
     "output_type": "stream",
     "text": [
      "Accuracy: 95.93 %%\n"
     ]
    }
   ],
   "source": [
    "correct = 0\n",
    "total = 0\n",
    "\n",
    "with torch.no_grad():\n",
    "    for (images, labels) in testloader:\n",
    "        outputs = net(images)\n",
    "        _, predicted = torch.max(outputs.data, 1)\n",
    "        total += labels.size(0)\n",
    "        correct += (predicted == labels).sum().item()\n",
    "print('Accuracy: {:.2f} %%'.format(100 * float(correct/total)))"
   ]
  }
 ],
 "metadata": {
  "kernelspec": {
   "display_name": "Python 3",
   "language": "python",
   "name": "python3"
  },
  "language_info": {
   "codemirror_mode": {
    "name": "ipython",
    "version": 3
   },
   "file_extension": ".py",
   "mimetype": "text/x-python",
   "name": "python",
   "nbconvert_exporter": "python",
   "pygments_lexer": "ipython3",
   "version": "3.7.6"
  }
 },
 "nbformat": 4,
 "nbformat_minor": 4
}
