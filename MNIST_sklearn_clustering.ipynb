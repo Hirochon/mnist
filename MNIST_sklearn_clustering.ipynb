{
 "cells": [
  {
   "cell_type": "code",
   "execution_count": 1,
   "metadata": {},
   "outputs": [
    {
     "name": "stdout",
     "output_type": "stream",
     "text": [
      "Package                Version            \r\n",
      "---------------------- -------------------\r\n",
      "absl-py                0.9.0              \r\n",
      "alembic                1.4.1              \r\n",
      "astor                  0.8.1              \r\n",
      "async-generator        1.10               \r\n",
      "attrs                  19.3.0             \r\n",
      "backcall               0.1.0              \r\n",
      "beautifulsoup4         4.8.2              \r\n",
      "bleach                 3.1.3              \r\n",
      "blinker                1.4                \r\n",
      "bokeh                  1.4.0              \r\n",
      "cachetools             4.1.0              \r\n",
      "certifi                2019.11.28         \r\n",
      "certipy                0.1.3              \r\n",
      "cffi                   1.14.0             \r\n",
      "chardet                3.0.4              \r\n",
      "click                  7.1.1              \r\n",
      "cloudpickle            1.3.0              \r\n",
      "conda                  4.8.2              \r\n",
      "conda-package-handling 1.6.0              \r\n",
      "cryptography           2.8                \r\n",
      "cycler                 0.10.0             \r\n",
      "Cython                 0.29.15            \r\n",
      "cytoolz                0.10.1             \r\n",
      "dask                   2.11.0             \r\n",
      "decorator              4.4.2              \r\n",
      "defusedxml             0.6.0              \r\n",
      "dill                   0.3.1.1            \r\n",
      "distributed            2.12.0             \r\n",
      "entrypoints            0.3                \r\n",
      "fsspec                 0.6.2              \r\n",
      "future                 0.18.2             \r\n",
      "gast                   0.2.2              \r\n",
      "google-auth            1.14.1             \r\n",
      "google-auth-oauthlib   0.4.1              \r\n",
      "google-pasta           0.2.0              \r\n",
      "grpcio                 1.28.1             \r\n",
      "h5py                   2.10.0             \r\n",
      "HeapDict               1.0.1              \r\n",
      "idna                   2.9                \r\n",
      "imageio                2.8.0              \r\n",
      "importlib-metadata     1.5.0              \r\n",
      "ipykernel              5.1.4              \r\n",
      "ipympl                 0.5.3              \r\n",
      "ipython                7.13.0             \r\n",
      "ipython-genutils       0.2.0              \r\n",
      "ipywidgets             7.5.1              \r\n",
      "jedi                   0.16.0             \r\n",
      "Jinja2                 2.11.1             \r\n",
      "joblib                 0.14.1             \r\n",
      "json5                  0.9.0              \r\n",
      "jsonschema             3.2.0              \r\n",
      "jupyter-client         6.0.0              \r\n",
      "jupyter-core           4.6.3              \r\n",
      "jupyter-telemetry      0.0.5              \r\n",
      "jupyterhub             1.1.0              \r\n",
      "jupyterlab             2.0.1              \r\n",
      "jupyterlab-server      1.0.7              \r\n",
      "Keras                  2.3.1              \r\n",
      "Keras-Applications     1.0.8              \r\n",
      "Keras-Preprocessing    1.1.0              \r\n",
      "kiwisolver             1.1.0              \r\n",
      "llvmlite               0.31.0             \r\n",
      "locket                 0.2.0              \r\n",
      "Mako                   1.1.0              \r\n",
      "Markdown               3.2.1              \r\n",
      "MarkupSafe             1.1.1              \r\n",
      "matplotlib             3.1.3              \r\n",
      "mistune                0.8.4              \r\n",
      "mpmath                 1.1.0              \r\n",
      "msgpack                1.0.0              \r\n",
      "nbconvert              5.6.1              \r\n",
      "nbformat               5.0.4              \r\n",
      "networkx               2.4                \r\n",
      "notebook               6.0.3              \r\n",
      "numba                  0.48.0             \r\n",
      "numexpr                2.7.1              \r\n",
      "numpy                  1.18.1             \r\n",
      "oauthlib               3.0.1              \r\n",
      "olefile                0.46               \r\n",
      "opt-einsum             3.2.1              \r\n",
      "packaging              20.1               \r\n",
      "pamela                 1.0.0              \r\n",
      "pandas                 1.0.2              \r\n",
      "pandocfilters          1.4.2              \r\n",
      "parso                  0.6.2              \r\n",
      "partd                  1.1.0              \r\n",
      "patsy                  0.5.1              \r\n",
      "pexpect                4.8.0              \r\n",
      "pickleshare            0.7.5              \r\n",
      "Pillow                 7.0.0              \r\n",
      "pip                    20.0.2             \r\n",
      "prometheus-client      0.7.1              \r\n",
      "prompt-toolkit         3.0.4              \r\n",
      "protobuf               3.11.4             \r\n",
      "psutil                 5.7.0              \r\n",
      "ptyprocess             0.6.0              \r\n",
      "pyasn1                 0.4.8              \r\n",
      "pyasn1-modules         0.2.8              \r\n",
      "pycosat                0.6.3              \r\n",
      "pycparser              2.20               \r\n",
      "pycurl                 7.43.0.5           \r\n",
      "Pygments               2.6.1              \r\n",
      "PyJWT                  1.7.1              \r\n",
      "pyOpenSSL              19.1.0             \r\n",
      "pyparsing              2.4.6              \r\n",
      "pyrsistent             0.15.7             \r\n",
      "PySocks                1.7.1              \r\n",
      "python-dateutil        2.8.1              \r\n",
      "python-editor          1.0.4              \r\n",
      "python-json-logger     0.1.11             \r\n",
      "pytz                   2019.3             \r\n",
      "PyWavelets             1.1.1              \r\n",
      "PyYAML                 5.3                \r\n",
      "pyzmq                  19.0.0             \r\n",
      "requests               2.23.0             \r\n",
      "requests-oauthlib      1.3.0              \r\n",
      "rpy2                   3.1.0              \r\n",
      "rsa                    4.0                \r\n",
      "ruamel-yaml            0.15.80            \r\n",
      "ruamel.yaml            0.16.6             \r\n",
      "ruamel.yaml.clib       0.2.0              \r\n",
      "scikit-image           0.16.2             \r\n",
      "scikit-learn           0.22.2.post1       \r\n",
      "scipy                  1.4.1              \r\n",
      "seaborn                0.10.0             \r\n",
      "Send2Trash             1.5.0              \r\n",
      "setuptools             46.0.0.post20200311\r\n",
      "simplegeneric          0.8.1              \r\n",
      "six                    1.14.0             \r\n",
      "sortedcontainers       2.1.0              \r\n",
      "soupsieve              1.9.4              \r\n",
      "SQLAlchemy             1.3.15             \r\n",
      "statsmodels            0.11.1             \r\n",
      "sympy                  1.5.1              \r\n",
      "tblib                  1.6.0              \r\n",
      "tensorboard            2.1.1              \r\n",
      "tensorflow             2.1.0              \r\n",
      "tensorflow-estimator   2.1.0              \r\n",
      "termcolor              1.1.0              \r\n",
      "terminado              0.8.3              \r\n",
      "testpath               0.4.4              \r\n",
      "toolz                  0.10.0             \r\n",
      "torch                  1.5.0              \r\n",
      "torchvision            0.6.0              \r\n",
      "tornado                6.0.4              \r\n",
      "tqdm                   4.43.0             \r\n",
      "traitlets              4.3.3              \r\n",
      "tzlocal                2.0.0              \r\n",
      "urllib3                1.25.7             \r\n",
      "vincent                0.4.4              \r\n",
      "wcwidth                0.1.8              \r\n",
      "webencodings           0.5.1              \r\n",
      "Werkzeug               1.0.1              \r\n",
      "wheel                  0.34.2             \r\n",
      "widgetsnbextension     3.5.1              \r\n",
      "wrapt                  1.12.1             \r\n",
      "xlrd                   1.2.0              \r\n",
      "zict                   2.0.0              \r\n",
      "zipp                   3.1.0              \r\n"
     ]
    }
   ],
   "source": [
    "!pip list"
   ]
  },
  {
   "cell_type": "code",
   "execution_count": 2,
   "metadata": {},
   "outputs": [],
   "source": [
    "from sklearn.datasets import load_digits\n",
    "\n",
    "digits = load_digits()"
   ]
  },
  {
   "cell_type": "code",
   "execution_count": 6,
   "metadata": {},
   "outputs": [
    {
     "name": "stdout",
     "output_type": "stream",
     "text": [
      "[[ 0.  0.  5. ...  0.  0.  0.]\n",
      " [ 0.  0.  0. ... 10.  0.  0.]\n",
      " [ 0.  0.  0. ... 16.  9.  0.]\n",
      " ...\n",
      " [ 0.  0.  1. ...  6.  0.  0.]\n",
      " [ 0.  0.  2. ... 12.  0.  0.]\n",
      " [ 0.  0. 10. ... 12.  1.  0.]] (1797, 64)\n"
     ]
    }
   ],
   "source": [
    "print(digits['data'], digits['data'].shape)"
   ]
  },
  {
   "cell_type": "code",
   "execution_count": 91,
   "metadata": {},
   "outputs": [],
   "source": [
    "digits_datas = digits['data']\n",
    "targets = digits['target']"
   ]
  },
  {
   "cell_type": "code",
   "execution_count": 98,
   "metadata": {},
   "outputs": [],
   "source": [
    "datas = []\n",
    "for k in range(1797):\n",
    "    data = []\n",
    "    for i in range(8):\n",
    "        dat = []\n",
    "        for j in range(8):\n",
    "            dat.append(digits_datas[k][i*8 + j])\n",
    "        data.append(dat)\n",
    "    datas.append(data)"
   ]
  },
  {
   "cell_type": "code",
   "execution_count": 99,
   "metadata": {},
   "outputs": [
    {
     "name": "stdout",
     "output_type": "stream",
     "text": [
      "1797 8 8\n"
     ]
    }
   ],
   "source": [
    "print(len(datas), len(datas[0]), len(datas[0][0]))"
   ]
  },
  {
   "cell_type": "code",
   "execution_count": 105,
   "metadata": {},
   "outputs": [
    {
     "data": {
      "text/plain": [
       "[[0.0, 0.0, 5.0, 13.0, 9.0, 1.0, 0.0, 0.0],\n",
       " [0.0, 0.0, 13.0, 15.0, 10.0, 15.0, 5.0, 0.0],\n",
       " [0.0, 3.0, 15.0, 2.0, 0.0, 11.0, 8.0, 0.0],\n",
       " [0.0, 4.0, 12.0, 0.0, 0.0, 8.0, 8.0, 0.0],\n",
       " [0.0, 5.0, 8.0, 0.0, 0.0, 9.0, 8.0, 0.0],\n",
       " [0.0, 4.0, 11.0, 0.0, 1.0, 12.0, 7.0, 0.0],\n",
       " [0.0, 2.0, 14.0, 5.0, 10.0, 12.0, 0.0, 0.0],\n",
       " [0.0, 0.0, 6.0, 13.0, 10.0, 0.0, 0.0, 0.0]]"
      ]
     },
     "metadata": {},
     "output_type": "display_data"
    }
   ],
   "source": [
    "display(datas[0])"
   ]
  },
  {
   "cell_type": "code",
   "execution_count": 35,
   "metadata": {},
   "outputs": [],
   "source": [
    "import matplotlib.pyplot as plt\n",
    "%matplotlib inline"
   ]
  },
  {
   "cell_type": "code",
   "execution_count": 170,
   "metadata": {},
   "outputs": [],
   "source": [
    "def plot_pictures(datas, labels):\n",
    "    plt.figure(figsize=(10, 5))\n",
    "    for i in range(len(labels)):\n",
    "        plt.subplot(2, 5, i+1)\n",
    "        plt.imshow(datas[i])\n",
    "        plt.title(labels[i])\n",
    "        plt.axis('off')\n",
    "    plt.show()"
   ]
  },
  {
   "cell_type": "code",
   "execution_count": 171,
   "metadata": {},
   "outputs": [
    {
     "data": {
      "image/png": "[encoded data removed]",
      "text/plain": [
       "<Figure size 720x360 with 10 Axes>"
      ]
     },
     "metadata": {
      "needs_background": "light"
     },
     "output_type": "display_data"
    }
   ],
   "source": [
    "plot_pictures(datas[:10], targets[:10])"
   ]
  },
  {
   "cell_type": "code",
   "execution_count": 151,
   "metadata": {},
   "outputs": [
    {
     "data": {
      "image/png": "[encoded data removed]",
      "text/plain": [
       "<Figure size 288x288 with 2 Axes>"
      ]
     },
     "metadata": {
      "needs_background": "light"
     },
     "output_type": "display_data"
    }
   ],
   "source": [
    "plt.figure(figsize=(4,4))\n",
    "\n",
    "plt.subplot(1,2,1)\n",
    "plt.imshow(datas[0])\n",
    "plt.title(targets[0])\n",
    "plt.axis('off')\n",
    "\n",
    "plt.subplot(1,2,2)\n",
    "plt.imshow(datas[1])\n",
    "plt.title(targets[1])\n",
    "plt.axis('off')\n",
    "\n",
    "plt.show()"
   ]
  },
  {
   "cell_type": "code",
   "execution_count": null,
   "metadata": {},
   "outputs": [],
   "source": []
  }
 ],
 "metadata": {
  "kernelspec": {
   "display_name": "Python 3",
   "language": "python",
   "name": "python3"
  },
  "language_info": {
   "codemirror_mode": {
    "name": "ipython",
    "version": 3
   },
   "file_extension": ".py",
   "mimetype": "text/x-python",
   "name": "python",
   "nbconvert_exporter": "python",
   "pygments_lexer": "ipython3",
   "version": "3.7.6"
  }
 },
 "nbformat": 4,
 "nbformat_minor": 4
}
