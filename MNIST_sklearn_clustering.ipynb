{
 "cells": [
  {
   "cell_type": "code",
   "execution_count": 14,
   "metadata": {},
   "outputs": [],
   "source": [
    "# !pip list"
   ]
  },
  {
   "cell_type": "code",
   "execution_count": 15,
   "metadata": {},
   "outputs": [],
   "source": [
    "import numpy as np"
   ]
  },
  {
   "cell_type": "code",
   "execution_count": 2,
   "metadata": {},
   "outputs": [],
   "source": [
    "from sklearn.datasets import load_digits\n",
    "\n",
    "digits = load_digits()"
   ]
  },
  {
   "cell_type": "code",
   "execution_count": 3,
   "metadata": {},
   "outputs": [
    {
     "name": "stdout",
     "output_type": "stream",
     "text": [
      "[[ 0.  0.  5. ...  0.  0.  0.]\n",
      " [ 0.  0.  0. ... 10.  0.  0.]\n",
      " [ 0.  0.  0. ... 16.  9.  0.]\n",
      " ...\n",
      " [ 0.  0.  1. ...  6.  0.  0.]\n",
      " [ 0.  0.  2. ... 12.  0.  0.]\n",
      " [ 0.  0. 10. ... 12.  1.  0.]] (1797, 64)\n"
     ]
    }
   ],
   "source": [
    "print(digits['data'], digits['data'].shape)"
   ]
  },
  {
   "cell_type": "code",
   "execution_count": 4,
   "metadata": {},
   "outputs": [],
   "source": [
    "digits_datas = digits['data']\n",
    "targets = digits['target']"
   ]
  },
  {
   "cell_type": "code",
   "execution_count": 5,
   "metadata": {},
   "outputs": [],
   "source": [
    "datas = []\n",
    "for k in range(1797):\n",
    "    data = []\n",
    "    for i in range(8):\n",
    "        dat = []\n",
    "        for j in range(8):\n",
    "            dat.append(digits_datas[k][i*8 + j])\n",
    "        data.append(dat)\n",
    "    datas.append(data)"
   ]
  },
  {
   "cell_type": "code",
   "execution_count": 6,
   "metadata": {},
   "outputs": [
    {
     "name": "stdout",
     "output_type": "stream",
     "text": [
      "1797 8 8\n"
     ]
    }
   ],
   "source": [
    "print(len(datas), len(datas[0]), len(datas[0][0]))"
   ]
  },
  {
   "cell_type": "code",
   "execution_count": 25,
   "metadata": {},
   "outputs": [],
   "source": [
    "datas = np.array(datas)\n",
    "use_datas = datas / 16"
   ]
  },
  {
   "cell_type": "code",
   "execution_count": 27,
   "metadata": {},
   "outputs": [
    {
     "data": {
      "text/plain": [
       "array([[ 0.,  0.,  0., 12., 13.,  5.,  0.,  0.],\n",
       "       [ 0.,  0.,  0., 11., 16.,  9.,  0.,  0.],\n",
       "       [ 0.,  0.,  3., 15., 16.,  6.,  0.,  0.],\n",
       "       [ 0.,  7., 15., 16., 16.,  2.,  0.,  0.],\n",
       "       [ 0.,  0.,  1., 16., 16.,  3.,  0.,  0.],\n",
       "       [ 0.,  0.,  1., 16., 16.,  6.,  0.,  0.],\n",
       "       [ 0.,  0.,  1., 16., 16.,  6.,  0.,  0.],\n",
       "       [ 0.,  0.,  0., 11., 16., 10.,  0.,  0.]])"
      ]
     },
     "metadata": {},
     "output_type": "display_data"
    },
    {
     "data": {
      "text/plain": [
       "array([[0.    , 0.    , 0.    , 0.75  , 0.8125, 0.3125, 0.    , 0.    ],\n",
       "       [0.    , 0.    , 0.    , 0.6875, 1.    , 0.5625, 0.    , 0.    ],\n",
       "       [0.    , 0.    , 0.1875, 0.9375, 1.    , 0.375 , 0.    , 0.    ],\n",
       "       [0.    , 0.4375, 0.9375, 1.    , 1.    , 0.125 , 0.    , 0.    ],\n",
       "       [0.    , 0.    , 0.0625, 1.    , 1.    , 0.1875, 0.    , 0.    ],\n",
       "       [0.    , 0.    , 0.0625, 1.    , 1.    , 0.375 , 0.    , 0.    ],\n",
       "       [0.    , 0.    , 0.0625, 1.    , 1.    , 0.375 , 0.    , 0.    ],\n",
       "       [0.    , 0.    , 0.    , 0.6875, 1.    , 0.625 , 0.    , 0.    ]])"
      ]
     },
     "metadata": {},
     "output_type": "display_data"
    }
   ],
   "source": [
    "display(datas[1], use_datas[1])"
   ]
  },
  {
   "cell_type": "code",
   "execution_count": 8,
   "metadata": {},
   "outputs": [],
   "source": [
    "import matplotlib.pyplot as plt\n",
    "%matplotlib inline"
   ]
  },
  {
   "cell_type": "code",
   "execution_count": 18,
   "metadata": {},
   "outputs": [],
   "source": [
    "def plot_pictures(datas, labels):\n",
    "    plt.figure(figsize=(10, 5))\n",
    "    plt.gray()\n",
    "    for i in range(len(labels)):\n",
    "        plt.subplot(2, 5, i+1)\n",
    "        plt.imshow(datas[i])\n",
    "        plt.title(labels[i])\n",
    "        plt.axis('off')\n",
    "    plt.show()"
   ]
  },
  {
   "cell_type": "code",
   "execution_count": 19,
   "metadata": {},
   "outputs": [
    {
     "data": {
      "image/png": "[encoded data removed]",
      "text/plain": [
       "<Figure size 720x360 with 10 Axes>"
      ]
     },
     "metadata": {
      "needs_background": "light"
     },
     "output_type": "display_data"
    }
   ],
   "source": [
    "plot_pictures(datas[:10], targets[:10])"
   ]
  },
  {
   "cell_type": "code",
   "execution_count": 28,
   "metadata": {},
   "outputs": [],
   "source": [
    "from sklearn.cluster import KMeans"
   ]
  },
  {
   "cell_type": "code",
   "execution_count": 39,
   "metadata": {},
   "outputs": [],
   "source": [
    "s_datas = np.array(digits_datas)"
   ]
  },
  {
   "cell_type": "code",
   "execution_count": 40,
   "metadata": {},
   "outputs": [
    {
     "data": {
      "text/plain": [
       "KMeans(algorithm='auto', copy_x=True, init='k-means++', max_iter=300,\n",
       "       n_clusters=10, n_init=10, n_jobs=None, precompute_distances='auto',\n",
       "       random_state=0, tol=0.0001, verbose=0)"
      ]
     },
     "execution_count": 40,
     "metadata": {},
     "output_type": "execute_result"
    }
   ],
   "source": [
    "kmeans = KMeans(n_clusters=10, random_state=0)\n",
    "kmeans.fit(s_datas)"
   ]
  },
  {
   "cell_type": "code",
   "execution_count": 58,
   "metadata": {},
   "outputs": [],
   "source": [
    "labels = kmeans.labels_"
   ]
  },
  {
   "cell_type": "code",
   "execution_count": 65,
   "metadata": {},
   "outputs": [],
   "source": [
    "group = [[x, y] for x, y in zip(labels, targets)]"
   ]
  },
  {
   "cell_type": "code",
   "execution_count": 66,
   "metadata": {},
   "outputs": [
    {
     "name": "stdout",
     "output_type": "stream",
     "text": [
      "[[5, 0], [9, 1], [9, 2], [1, 3], [0, 4], [4, 5], [7, 6], [6, 7], [9, 8], [4, 9], [5, 0], [2, 1], [3, 2], [1, 3], [0, 4], [8, 5], [7, 6], [6, 7], [9, 8], [4, 9], [5, 0], [2, 1], [3, 2], [1, 3], [2, 4], [8, 5], [7, 6], [6, 7], [9, 8], [4, 9], [5, 0], [4, 9], [8, 5], [8, 5], [7, 6], [8, 5], [5, 0], [4, 9], [9, 8], [4, 9], [9, 8], [0, 4], [2, 1], [6, 7], [6, 7], [1, 3], [8, 5], [2, 1], [5, 0], [5, 0], [9, 2], [9, 2], [6, 7], [9, 8], [6, 2], [5, 0], [2, 1], [9, 2], [7, 6], [1, 3], [1, 3], [6, 7], [1, 3], [1, 3], [0, 4], [7, 6], [7, 6], [7, 6], [0, 4], [9, 9], [2, 1], [8, 5], [5, 0], [4, 9], [8, 5], [2, 2], [9, 8], [2, 2], [5, 0], [5, 0], [2, 1], [6, 7], [7, 6], [1, 3], [3, 2], [2, 1], [6, 7], [0, 4], [7, 6], [1, 3], [2, 1], [1, 3], [1, 9], [9, 1], [6, 7], [9, 6], [9, 8], [0, 4], [1, 3], [9, 1], [0, 4], [5, 0], [8, 5], [6, 3], [7, 6], [4, 9], [7, 6], [2, 1], [6, 7], [8, 5], [0, 4], [0, 4], [6, 7], [3, 2], [9, 8], [9, 2], [9, 2], [8, 5], [6, 7], [4, 9], [8, 5], [0, 4], [9, 8], [9, 8], [0, 4], [4, 9], [5, 0], [9, 8], [4, 9], [9, 8], [5, 0], [2, 1], [3, 2], [1, 3], [0, 4], [8, 5], [7, 6], [6, 7], [9, 8], [4, 9], [5, 0], [2, 1], [3, 2], [1, 3], [0, 4], [8, 5], [7, 6], [6, 7], [9, 8], [4, 9], [5, 0], [2, 1], [3, 2], [1, 3], [0, 4], [8, 5], [7, 6], [6, 7], [9, 8], [4, 9], [5, 0], [1, 9], [8, 5], [8, 5], [7, 6], [8, 5], [5, 0], [4, 9], [9, 8], [4, 9], [9, 8], [0, 4], [2, 1], [6, 7], [6, 7], [1, 3], [8, 5], [2, 1], [5, 0], [5, 0], [3, 2], [3, 2], [6, 7], [9, 8], [3, 2], [5, 0], [2, 1], [3, 2], [7, 6], [1, 3], [1, 3], [6, 7], [1, 3], [1, 3], [0, 4], [7, 6], [7, 6], [7, 6], [9, 4], [4, 9], [2, 1], [8, 5], [5, 0], [4, 9], [8, 5], [3, 2], [9, 8], [3, 2], [5, 0], [5, 0], [2, 1], [6, 7], [7, 6], [1, 3], [3, 2], [2, 1], [6, 7], [1, 3], [2, 1], [1, 3], [4, 9], [2, 1], [6, 7], [7, 6], [9, 8], [0, 4], [1, 3], [2, 1], [0, 4], [5, 0], [8, 5], [6, 3], [7, 6], [4, 9], [7, 6], [2, 1], [6, 7], [8, 5], [9, 4], [0, 4], [6, 7], [3, 2], [9, 8], [3, 2], [3, 2], [8, 5], [8, 5], [2, 4], [9, 8], [9, 8], [0, 4], [4, 9], [5, 0], [9, 8], [4, 9], [9, 8], [5, 0], [9, 1], [3, 2], [1, 3], [0, 4], [4, 5], [7, 6], [6, 7], [4, 8], [8, 9], [5, 0], [9, 1], [3, 2], [1, 3], [0, 4], [8, 5], [7, 6], [6, 7], [9, 8], [6, 9], [5, 0], [9, 1], [3, 2], [1, 3], [0, 4], [8, 5], [7, 6], [6, 7], [9, 8], [4, 9], [5, 0], [4, 9], [8, 5], [4, 5], [7, 6], [4, 5], [5, 0], [4, 9], [9, 8], [4, 9], [9, 8], [0, 4], [9, 1], [6, 7], [6, 7], [1, 3], [8, 5], [9, 1], [5, 0], [5, 0], [3, 2], [3, 2], [6, 7], [4, 8], [3, 2], [5, 0], [2, 1], [3, 2], [7, 6], [1, 3], [1, 3], [6, 7], [1, 3], [1, 3], [0, 4], [7, 6], [7, 6], [7, 6], [0, 4], [6, 9], [9, 1], [8, 5], [5, 0], [6, 9], [8, 5], [3, 2], [4, 8], [3, 2], [5, 0], [5, 0], [9, 1], [6, 7], [7, 6], [1, 3], [3, 2], [9, 1], [6, 7], [0, 4], [7, 6], [1, 3], [9, 1], [1, 3], [6, 9], [9, 1], [6, 7], [7, 6], [9, 8], [0, 4], [1, 3], [9, 1], [0, 4], [5, 0], [4, 5], [1, 3], [7, 6], [6, 9], [7, 6], [9, 1], [6, 7], [8, 5], [0, 4], [0, 4], [6, 7], [3, 2], [4, 8], [3, 2], [3, 2], [4, 5], [6, 7], [2, 9], [8, 5], [0, 4], [4, 8], [4, 8], [0, 4], [2, 9], [5, 0], [9, 8], [6, 9], [1, 3], [5, 0], [2, 1], [3, 2], [1, 3], [0, 4], [8, 5], [7, 6], [6, 7], [4, 8], [4, 9], [5, 0], [2, 1], [3, 2], [1, 3], [0, 4], [8, 5], [7, 6], [6, 7], [9, 8], [4, 9], [5, 0], [2, 1], [3, 2], [1, 3], [0, 4], [8, 5], [7, 6], [6, 7], [4, 8], [4, 9], [5, 0], [4, 9], [1, 5], [8, 5], [7, 6], [4, 5], [5, 0], [4, 9], [4, 8], [4, 9], [4, 8], [0, 4], [2, 1], [6, 7], [6, 7], [1, 3], [8, 5], [2, 1], [5, 0], [5, 0], [3, 2], [3, 2], [6, 7], [4, 8], [3, 2], [5, 0], [3, 1], [3, 2], [7, 6], [1, 3], [4, 3], [6, 7], [4, 3], [4, 3], [0, 4], [7, 6], [7, 6], [7, 6], [0, 4], [4, 9], [2, 1], [4, 5], [5, 0], [4, 9], [8, 5], [3, 2], [9, 8], [3, 2], [5, 0], [5, 0], [2, 1], [6, 7], [7, 6], [1, 3], [3, 2], [2, 1], [6, 7], [2, 4], [7, 6], [1, 3], [2, 1], [1, 3], [4, 9], [2, 1], [6, 7], [7, 6], [4, 8], [0, 4], [1, 3], [2, 1], [0, 4], [5, 0], [8, 5], [1, 3], [7, 6], [4, 9], [9, 6], [2, 1], [6, 7], [8, 5], [2, 4], [0, 4], [6, 7], [3, 2], [4, 8], [3, 2], [9, 2], [8, 5], [6, 7], [4, 9], [8, 5], [0, 4], [9, 8], [9, 8], [0, 4], [4, 9], [5, 0], [4, 8], [4, 9], [4, 8], [5, 0], [3, 1], [3, 2], [4, 3], [0, 4], [8, 5], [7, 6], [6, 7], [9, 8], [4, 9], [5, 0], [3, 1], [3, 2], [4, 3], [6, 4], [4, 5], [7, 6], [6, 7], [9, 8], [4, 9], [5, 0], [3, 1], [3, 2], [3, 3], [0, 4], [4, 5], [7, 6], [6, 7], [9, 8], [4, 9], [5, 0], [9, 9], [8, 5], [4, 5], [7, 6], [4, 5], [5, 0], [4, 9], [9, 8], [4, 9], [9, 8], [0, 4], [3, 1], [6, 7], [6, 7], [1, 3], [4, 5], [7, 1], [5, 0], [5, 0], [3, 2], [3, 2], [6, 7], [7, 8], [3, 2], [5, 0], [3, 1], [3, 2], [7, 6], [4, 3], [1, 3], [6, 7], [4, 3], [4, 3], [0, 4], [7, 6], [7, 6], [7, 6], [0, 4], [4, 9], [7, 1], [8, 5], [5, 0], [4, 9], [4, 5], [3, 2], [9, 8], [3, 2], [5, 0], [5, 0], [3, 1], [6, 7], [7, 6], [4, 3], [3, 2], [3, 1], [6, 7], [0, 4], [7, 6], [1, 3], [3, 1], [4, 3], [4, 9], [3, 1], [6, 7], [7, 6], [9, 8], [0, 4], [1, 3], [9, 1], [0, 4], [5, 0], [4, 5], [1, 3], [7, 6], [4, 9], [7, 6], [3, 1], [6, 7], [8, 5], [0, 4], [0, 4], [6, 7], [3, 2], [9, 8], [3, 2], [3, 2], [8, 5], [6, 7], [4, 9], [4, 5], [6, 4], [2, 8], [9, 8], [0, 4], [4, 9], [5, 0], [9, 8], [4, 9], [9, 8], [5, 0], [9, 1], [3, 2], [1, 3], [0, 4], [8, 5], [7, 6], [6, 7], [4, 8], [2, 9], [5, 0], [9, 1], [3, 2], [1, 3], [0, 4], [8, 5], [7, 6], [6, 7], [9, 8], [2, 9], [5, 0], [9, 1], [3, 2], [1, 3], [2, 4], [8, 5], [7, 6], [6, 7], [4, 8], [2, 9], [5, 0], [2, 9], [0, 5], [8, 5], [7, 6], [8, 5], [5, 0], [2, 9], [9, 8], [2, 9], [4, 8], [0, 4], [9, 1], [6, 7], [6, 7], [1, 3], [8, 5], [9, 1], [5, 0], [5, 0], [1, 2], [3, 2], [6, 7], [9, 8], [9, 2], [5, 0], [9, 1], [4, 2], [7, 6], [1, 3], [1, 3], [6, 7], [1, 3], [1, 3], [0, 4], [7, 6], [7, 6], [7, 6], [0, 4], [2, 9], [9, 1], [8, 5], [5, 0], [2, 9], [8, 5], [1, 2], [4, 8], [3, 2], [5, 0], [5, 0], [9, 1], [6, 7], [7, 6], [1, 3], [3, 2], [9, 1], [6, 7], [0, 4], [7, 6], [1, 3], [9, 1], [1, 3], [2, 9], [9, 1], [6, 7], [7, 6], [9, 8], [0, 4], [1, 3], [9, 1], [6, 4], [5, 0], [8, 5], [1, 3], [7, 6], [2, 9], [7, 6], [9, 1], [6, 7], [8, 5], [0, 4], [6, 4], [6, 7], [3, 2], [9, 8], [3, 2], [3, 2], [8, 5], [6, 7], [2, 9], [8, 5], [0, 4], [4, 8], [9, 8], [6, 4], [2, 9], [5, 0], [4, 8], [2, 9], [9, 8], [5, 0], [9, 1], [3, 2], [1, 3], [0, 4], [8, 5], [7, 6], [6, 7], [7, 8], [4, 9], [5, 0], [9, 1], [3, 2], [1, 3], [0, 4], [8, 5], [5, 6], [6, 7], [2, 8], [4, 9], [5, 0], [9, 1], [3, 2], [1, 3], [0, 4], [8, 5], [7, 6], [6, 7], [9, 8], [4, 9], [5, 0], [4, 9], [8, 5], [8, 5], [7, 6], [8, 5], [5, 0], [4, 9], [4, 8], [4, 9], [4, 8], [0, 4], [9, 1], [6, 7], [6, 7], [1, 3], [8, 5], [9, 1], [5, 0], [5, 0], [3, 2], [3, 2], [6, 7], [2, 8], [3, 2], [5, 0], [3, 1], [3, 2], [7, 6], [1, 3], [1, 3], [6, 7], [1, 3], [1, 3], [0, 4], [7, 6], [7, 6], [7, 6], [0, 4], [4, 9], [9, 1], [8, 5], [5, 0], [4, 9], [8, 5], [3, 2], [9, 8], [3, 2], [5, 0], [5, 0], [9, 1], [6, 7], [7, 6], [1, 3], [6, 2], [9, 1], [6, 7], [0, 4], [7, 6], [1, 3], [9, 1], [1, 3], [4, 9], [9, 1], [6, 7], [7, 6], [3, 8], [0, 4], [1, 3], [9, 1], [0, 4], [5, 0], [8, 5], [1, 3], [7, 6], [4, 9], [7, 6], [9, 1], [6, 7], [8, 5], [0, 4], [0, 4], [6, 7], [3, 2], [2, 8], [6, 2], [3, 2], [8, 5], [6, 7], [4, 9], [8, 5], [0, 4], [2, 8], [4, 8], [0, 4], [4, 9], [5, 0], [9, 8], [4, 9], [9, 8], [3, 1], [3, 2], [1, 3], [0, 4], [8, 5], [7, 6], [6, 7], [4, 8], [4, 9], [5, 0], [3, 1], [3, 2], [1, 3], [0, 4], [4, 5], [7, 6], [6, 7], [4, 8], [4, 9], [5, 0], [3, 1], [3, 2], [1, 3], [0, 4], [4, 5], [7, 6], [6, 7], [4, 8], [4, 9], [5, 0], [4, 9], [4, 5], [4, 5], [7, 6], [4, 5], [5, 0], [4, 9], [4, 8], [4, 9], [9, 8], [0, 4], [1, 1], [6, 7], [6, 7], [1, 3], [4, 5], [3, 1], [3, 2], [6, 7], [4, 8], [3, 2], [5, 0], [3, 1], [3, 2], [7, 6], [1, 3], [1, 3], [6, 7], [1, 3], [1, 3], [0, 4], [7, 6], [7, 6], [7, 6], [0, 4], [4, 9], [3, 1], [4, 5], [5, 0], [4, 9], [4, 5], [3, 2], [4, 8], [3, 2], [5, 0], [5, 0], [3, 1], [6, 7], [7, 6], [1, 3], [3, 2], [3, 1], [0, 4], [7, 6], [1, 3], [3, 1], [1, 3], [4, 9], [3, 1], [6, 7], [7, 6], [4, 8], [2, 4], [1, 3], [3, 1], [0, 4], [5, 0], [8, 5], [1, 3], [7, 6], [4, 9], [7, 6], [3, 1], [6, 7], [4, 5], [0, 4], [0, 4], [6, 7], [3, 2], [4, 8], [3, 2], [3, 2], [4, 5], [6, 7], [4, 9], [4, 5], [0, 4], [0, 4], [4, 9], [5, 0], [4, 8], [4, 9], [4, 8], [5, 0], [9, 1], [3, 2], [1, 3], [0, 4], [8, 5], [7, 6], [6, 7], [6, 8], [1, 9], [5, 0], [9, 1], [3, 2], [1, 3], [0, 4], [8, 5], [7, 6], [6, 7], [9, 8], [4, 9], [5, 0], [9, 1], [3, 2], [1, 3], [0, 4], [8, 5], [7, 6], [6, 7], [4, 8], [4, 9], [5, 0], [4, 9], [8, 5], [8, 5], [7, 6], [8, 5], [5, 0], [4, 9], [4, 8], [4, 9], [9, 8], [0, 4], [9, 1], [6, 7], [6, 7], [1, 3], [8, 5], [9, 1], [5, 0], [5, 0], [6, 7], [9, 8], [3, 2], [5, 0], [9, 1], [3, 2], [7, 6], [1, 3], [1, 3], [6, 7], [1, 3], [1, 3], [0, 4], [7, 6], [7, 6], [7, 6], [6, 4], [4, 9], [9, 1], [8, 5], [5, 0], [8, 9], [8, 5], [3, 2], [1, 8], [1, 2], [5, 0], [5, 0], [9, 1], [6, 7], [7, 6], [1, 3], [3, 2], [9, 1], [6, 7], [0, 4], [7, 6], [1, 3], [9, 1], [6, 3], [4, 9], [9, 1], [6, 7], [7, 6], [9, 8], [0, 4], [1, 3], [9, 1], [0, 4], [5, 0], [8, 5], [1, 3], [7, 6], [4, 9], [7, 6], [9, 1], [6, 7], [8, 5], [0, 4], [0, 4], [6, 7], [3, 2], [9, 8], [3, 2], [3, 2], [8, 5], [6, 7], [4, 9], [8, 5], [0, 4], [3, 8], [1, 8], [0, 4], [4, 9], [5, 0], [9, 8], [4, 9], [9, 8], [5, 0], [2, 1], [3, 2], [1, 3], [0, 4], [8, 5], [7, 6], [6, 7], [1, 8], [4, 9], [5, 0], [2, 1], [3, 2], [1, 3], [0, 4], [8, 5], [7, 6], [6, 7], [9, 8], [4, 9], [5, 0], [9, 1], [3, 2], [1, 3], [0, 4], [8, 5], [7, 6], [6, 7], [9, 8], [4, 9], [5, 0], [4, 9], [8, 5], [8, 5], [7, 6], [8, 5], [5, 0], [4, 9], [8, 8], [4, 9], [8, 8], [0, 4], [9, 1], [6, 7], [6, 7], [6, 3], [8, 5], [9, 1], [5, 0], [5, 0], [3, 2], [3, 2], [6, 7], [6, 8], [3, 2], [5, 0], [9, 1], [3, 2], [7, 6], [1, 3], [1, 3], [6, 7], [1, 3], [1, 3], [0, 4], [7, 6], [7, 6], [7, 6], [0, 4], [4, 9], [9, 1], [8, 5], [5, 0], [4, 9], [8, 5], [3, 2], [8, 8], [3, 2], [5, 0], [5, 0], [9, 1], [6, 7], [7, 6], [1, 3], [3, 2], [9, 1], [6, 7], [0, 4], [7, 6], [1, 3], [9, 1], [1, 3], [4, 9], [9, 1], [6, 7], [7, 6], [9, 8], [0, 4], [1, 3], [9, 1], [0, 4], [5, 0], [8, 5], [1, 3], [7, 6], [4, 9], [7, 6], [8, 1], [6, 7], [8, 5], [0, 4], [0, 4], [6, 7], [3, 2], [3, 8], [3, 2], [3, 2], [8, 5], [6, 7], [4, 9], [8, 5], [0, 4], [9, 8], [9, 8], [0, 4], [4, 9], [5, 0], [9, 8], [4, 9], [9, 8], [5, 0], [2, 1], [3, 2], [1, 3], [0, 4], [4, 5], [7, 6], [6, 7], [9, 8], [4, 9], [5, 0], [9, 1], [3, 2], [1, 3], [0, 4], [8, 5], [7, 6], [6, 7], [9, 8], [4, 9], [5, 0], [2, 1], [1, 2], [1, 3], [0, 4], [8, 5], [7, 6], [6, 7], [9, 8], [4, 9], [5, 0], [4, 9], [8, 5], [8, 5], [7, 6], [8, 5], [5, 0], [4, 9], [9, 8], [4, 9], [9, 8], [0, 4], [9, 1], [6, 7], [6, 7], [1, 3], [8, 5], [9, 1], [5, 0], [5, 0], [1, 2], [1, 2], [6, 7], [9, 8], [1, 2], [5, 0], [2, 1], [1, 2], [7, 6], [1, 3], [1, 3], [6, 7], [1, 3], [1, 3], [0, 4], [7, 6], [7, 6], [7, 6], [0, 4], [4, 9], [9, 1], [8, 5], [5, 0], [4, 9], [7, 5], [3, 2], [9, 8], [1, 2], [5, 0], [5, 0], [2, 1], [6, 7], [7, 6], [1, 3], [3, 2], [9, 1], [6, 7], [0, 4], [7, 6], [1, 3], [9, 1], [1, 3], [4, 9], [9, 1], [6, 7], [7, 6], [9, 8], [0, 4], [1, 3], [9, 1], [0, 4], [5, 0], [8, 5], [1, 3], [7, 6], [4, 9], [7, 6], [9, 1], [6, 7], [8, 5], [0, 4], [0, 4], [6, 7], [4, 2], [9, 8], [3, 2], [3, 2], [4, 5], [6, 7], [4, 9], [8, 5], [0, 4], [9, 8], [9, 8], [0, 4], [4, 9], [5, 0], [9, 8], [5, 0], [2, 1], [3, 2], [1, 3], [0, 4], [8, 5], [7, 6], [6, 7], [4, 8], [4, 9], [5, 0], [2, 1], [3, 2], [1, 3], [0, 4], [4, 5], [7, 6], [6, 7], [4, 8], [4, 9], [5, 0], [2, 1], [3, 2], [1, 3], [0, 4], [4, 5], [7, 6], [6, 7], [4, 8], [4, 9], [5, 0], [4, 9], [4, 5], [4, 5], [7, 6], [4, 5], [5, 0], [4, 9], [4, 8], [4, 9], [4, 8], [0, 4], [2, 1], [6, 7], [6, 7], [1, 3], [4, 5], [2, 1], [5, 0], [5, 0], [3, 2], [3, 2], [6, 7], [2, 8], [3, 2], [5, 0], [2, 1], [3, 2], [7, 6], [1, 3], [1, 3], [6, 7], [1, 3], [1, 3], [0, 4], [7, 6], [7, 6], [7, 6], [0, 4], [4, 9], [2, 1], [4, 5], [5, 0], [4, 9], [8, 5], [3, 2], [4, 8], [3, 2], [5, 0], [5, 0], [2, 1], [6, 7], [7, 6], [1, 3], [3, 2], [2, 1], [6, 7], [0, 4], [7, 6], [1, 3], [2, 1], [1, 3], [4, 9], [2, 1], [6, 7], [7, 6], [4, 8], [0, 4], [1, 3], [2, 1], [0, 4], [5, 0], [4, 5], [1, 3], [7, 6], [4, 9], [7, 6], [2, 1], [6, 7], [4, 5], [0, 4], [0, 4], [6, 7], [3, 2], [4, 8], [3, 2], [3, 2], [8, 5], [6, 7], [4, 9], [8, 5], [0, 4], [4, 8], [6, 8], [0, 4], [1, 9], [5, 0], [6, 8], [4, 9], [4, 8], [5, 0], [9, 1], [3, 2], [1, 3], [0, 4], [8, 5], [2, 6], [9, 7], [9, 8], [2, 9], [5, 0], [9, 1], [1, 2], [1, 3], [0, 4], [8, 5], [7, 6], [2, 9], [5, 0], [9, 1], [3, 2], [1, 3], [0, 4], [8, 5], [7, 6], [6, 7], [8, 8], [2, 9], [0, 0], [2, 9], [8, 5], [8, 5], [7, 6], [8, 5], [5, 0], [8, 9], [9, 8], [8, 9], [9, 8], [0, 4], [9, 1], [6, 7], [6, 7], [9, 3], [8, 5], [9, 1], [5, 0], [5, 0], [5, 2], [3, 2], [9, 7], [9, 8], [1, 2], [5, 0], [9, 1], [3, 2], [7, 6], [9, 3], [6, 3], [6, 7], [6, 3], [9, 3], [0, 4], [7, 6], [7, 6], [7, 6], [9, 4], [2, 9], [9, 1], [8, 5], [5, 0], [4, 9], [8, 5], [1, 2], [9, 8], [5, 0], [9, 1], [6, 7], [7, 6], [1, 3], [3, 2], [9, 1], [6, 7], [9, 4], [7, 6], [1, 3], [9, 1], [1, 3], [6, 9], [9, 1], [6, 7], [7, 6], [9, 8], [0, 4], [1, 3], [9, 1], [0, 4], [5, 0], [8, 5], [1, 3], [7, 6], [1, 9], [7, 6], [9, 1], [6, 7], [8, 5], [0, 4], [0, 4], [6, 7], [3, 2], [1, 2], [8, 5], [6, 7], [1, 9], [8, 5], [6, 4], [0, 4], [8, 9], [5, 0], [9, 8], [8, 9], [6, 8], [5, 0], [9, 1], [3, 2], [1, 3], [2, 4], [8, 5], [7, 6], [6, 7], [1, 8], [4, 9], [5, 0], [9, 1], [3, 2], [9, 3], [0, 4], [8, 5], [7, 6], [6, 7], [9, 8], [4, 9], [5, 0], [9, 1], [3, 2], [8, 3], [0, 4], [0, 5], [7, 6], [6, 7], [9, 8], [4, 9], [5, 0], [4, 9], [8, 5], [8, 5], [7, 6], [8, 5], [5, 0], [4, 9], [4, 8], [4, 9], [9, 8], [0, 4], [9, 1], [6, 7], [6, 7], [6, 3], [8, 5], [9, 1], [5, 0], [5, 0], [3, 2], [3, 2], [6, 7], [9, 8], [3, 2], [5, 0], [9, 1], [3, 2], [7, 6], [9, 3], [9, 3], [6, 7], [4, 3], [9, 3], [0, 4], [7, 6], [7, 6], [7, 6], [0, 4], [4, 9], [9, 1], [8, 5], [5, 0], [4, 9], [4, 5], [3, 2], [9, 8], [3, 2], [5, 0], [5, 0], [9, 1], [6, 7], [7, 6], [1, 3], [3, 2], [9, 1], [6, 7], [0, 4], [7, 6], [1, 3], [9, 1], [1, 3], [4, 9], [9, 1], [6, 7], [7, 6], [9, 8], [0, 4], [8, 3], [9, 1], [0, 4], [5, 0], [4, 5], [1, 3], [7, 6], [4, 9], [7, 6], [9, 1], [6, 7], [8, 5], [0, 4], [0, 4], [6, 7], [3, 2], [9, 8], [3, 2], [3, 2], [4, 5], [6, 7], [4, 9], [4, 5], [0, 4], [9, 8], [9, 8], [0, 4], [4, 9], [5, 0], [9, 8], [4, 9], [4, 8]]\n"
     ]
    }
   ],
   "source": [
    "print(group)"
   ]
  },
  {
   "cell_type": "code",
   "execution_count": 75,
   "metadata": {},
   "outputs": [
    {
     "name": "stdout",
     "output_type": "stream",
     "text": [
      "[[0. 0. 0. 0. 0. 0. 0. 0. 0. 0.]\n",
      " [0. 0. 0. 0. 0. 0. 0. 0. 0. 0.]\n",
      " [0. 0. 0. 0. 0. 0. 0. 0. 0. 0.]\n",
      " [0. 0. 0. 0. 0. 0. 0. 0. 0. 0.]\n",
      " [0. 0. 0. 0. 0. 0. 0. 0. 0. 0.]\n",
      " [0. 0. 0. 0. 0. 0. 0. 0. 0. 0.]\n",
      " [0. 0. 0. 0. 0. 0. 0. 0. 0. 0.]\n",
      " [0. 0. 0. 0. 0. 0. 0. 0. 0. 0.]\n",
      " [0. 0. 0. 0. 0. 0. 0. 0. 0. 0.]\n",
      " [0. 0. 0. 0. 0. 0. 0. 0. 0. 0.]]\n"
     ]
    }
   ],
   "source": [
    "groups = np.zeros((10,10))\n",
    "print(groups)"
   ]
  },
  {
   "cell_type": "code",
   "execution_count": 76,
   "metadata": {},
   "outputs": [
    {
     "name": "stdout",
     "output_type": "stream",
     "text": [
      "[[  1.   0.   0.   0. 163.   2.   0.   0.   0.   0.]\n",
      " [  0.   1.  13. 155.   0.   1.   0.   0.   4.   6.]\n",
      " [  0.  55.   2.   0.   7.   0.   1.   0.   6.  20.]\n",
      " [  0.  24. 148.   1.   0.   0.   0.   0.   3.   0.]\n",
      " [  0.   0.   2.  11.   0.  42.   0.   0.  48. 139.]\n",
      " [177.   0.   1.   0.   0.   0.   1.   0.   0.   0.]\n",
      " [  0.   0.   3.   7.   7.   0.   0. 177.   5.   7.]\n",
      " [  0.   2.   0.   0.   0.   1. 177.   0.   2.   0.]\n",
      " [  0.   1.   0.   2.   0. 136.   0.   0.   4.   6.]\n",
      " [  0.  99.   8.   7.   4.   0.   2.   2. 102.   2.]]\n"
     ]
    }
   ],
   "source": [
    "for gro in group:\n",
    "    groups[gro[0], gro[1]] += 1\n",
    "print(groups)"
   ]
  },
  {
   "cell_type": "code",
   "execution_count": 68,
   "metadata": {},
   "outputs": [],
   "source": [
    "import seaborn as sns"
   ]
  },
  {
   "cell_type": "code",
   "execution_count": 77,
   "metadata": {},
   "outputs": [
    {
     "data": {
      "text/plain": [
       "<matplotlib.axes._subplots.AxesSubplot at 0x7f52ab589190>"
      ]
     },
     "execution_count": 77,
     "metadata": {},
     "output_type": "execute_result"
    },
    {
     "data": {
      "image/png": "[encoded data removed]",
      "text/plain": [
       "<Figure size 432x288 with 2 Axes>"
      ]
     },
     "metadata": {
      "needs_background": "light"
     },
     "output_type": "display_data"
    }
   ],
   "source": [
    "sns.heatmap(groups)"
   ]
  },
  {
   "cell_type": "code",
   "execution_count": 81,
   "metadata": {},
   "outputs": [
    {
     "name": "stdout",
     "output_type": "stream",
     "text": [
      "[1, 2, 3] [3, 4, 5]\n"
     ]
    }
   ],
   "source": [
    "a = [1,2,3]\n",
    "b = [3,4,5]\n",
    "print(a, b)"
   ]
  },
  {
   "cell_type": "code",
   "execution_count": 82,
   "metadata": {},
   "outputs": [],
   "source": [
    "a[1], a[2] = b[1], b[2]"
   ]
  },
  {
   "cell_type": "code",
   "execution_count": 83,
   "metadata": {},
   "outputs": [
    {
     "name": "stdout",
     "output_type": "stream",
     "text": [
      "[1, 4, 5] [3, 4, 5]\n"
     ]
    }
   ],
   "source": [
    "print(a, b)"
   ]
  }
 ],
 "metadata": {
  "kernelspec": {
   "display_name": "Python 3",
   "language": "python",
   "name": "python3"
  },
  "language_info": {
   "codemirror_mode": {
    "name": "ipython",
    "version": 3
   },
   "file_extension": ".py",
   "mimetype": "text/x-python",
   "name": "python",
   "nbconvert_exporter": "python",
   "pygments_lexer": "ipython3",
   "version": "3.7.6"
  }
 },
 "nbformat": 4,
 "nbformat_minor": 4
}
